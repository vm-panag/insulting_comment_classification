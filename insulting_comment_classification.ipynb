{
  "nbformat": 4,
  "nbformat_minor": 0,
  "metadata": {
    "kernelspec": {
      "display_name": "Python 3",
      "language": "python",
      "name": "python3"
    },
    "language_info": {
      "codemirror_mode": {
        "name": "ipython",
        "version": 3
      },
      "file_extension": ".py",
      "mimetype": "text/x-python",
      "name": "python",
      "nbconvert_exporter": "python",
      "pygments_lexer": "ipython3",
      "version": "3.7.6"
    },
    "colab": {
      "name": "insulting_comment_classification.ipynb",
      "provenance": []
    }
  },
  "cells": [
    {
      "cell_type": "markdown",
      "metadata": {
        "id": "qwDB4oNq7a0E"
      },
      "source": [
        "# Binary Classification of Comments   \r\n",
        "## <div> Vassilis Panagakis </div>"
      ]
    },
    {
      "cell_type": "code",
      "metadata": {
        "id": "GPNIR2nfhr5K"
      },
      "source": [
        "import pandas as pd\n",
        "import numpy as np\n",
        "import nltk\n",
        "import re\n",
        "import warnings\n",
        "\n",
        "from nltk.corpus import stopwords\n",
        "from sklearn import metrics\n",
        "\n",
        "warnings.filterwarnings('ignore')  "
      ],
      "execution_count": 25,
      "outputs": []
    },
    {
      "cell_type": "markdown",
      "metadata": {
        "id": "sStnn3cnXAOM"
      },
      "source": [
        "## Load Data"
      ]
    },
    {
      "cell_type": "code",
      "metadata": {
        "colab": {
          "base_uri": "https://localhost:8080/"
        },
        "id": "FyzcY9_IXCal",
        "outputId": "8f3718a7-516a-4ef3-e435-45131397c401"
      },
      "source": [
        "from google.colab import drive \n",
        "drive.mount('/content/gdrive')"
      ],
      "execution_count": 2,
      "outputs": [
        {
          "output_type": "stream",
          "text": [
            "Mounted at /content/gdrive\n"
          ],
          "name": "stdout"
        }
      ]
    },
    {
      "cell_type": "code",
      "metadata": {
        "id": "pvhIx7OQhr5M"
      },
      "source": [
        "#load train and test sets\n",
        "train = pd.read_csv(\"gdrive/My Drive/Colab Notebooks/data/train.csv\")\n",
        "test = pd.read_csv(\"gdrive/My Drive/Colab Notebooks/data/impermium_verification_set.csv\", usecols=['Date','Comment'])"
      ],
      "execution_count": 3,
      "outputs": []
    },
    {
      "cell_type": "code",
      "metadata": {
        "id": "PmKJJ0lvhr5M"
      },
      "source": [
        "#replace train set's NaN values of column 'Date'\n",
        "train['Date'].fillna('00000000000000Z', inplace=True)"
      ],
      "execution_count": 4,
      "outputs": []
    },
    {
      "cell_type": "markdown",
      "metadata": {
        "id": "PI2YEnEXhr5N"
      },
      "source": [
        "##### Display some samples of our initial data"
      ]
    },
    {
      "cell_type": "code",
      "metadata": {
        "id": "GLOag942hr5N",
        "colab": {
          "base_uri": "https://localhost:8080/",
          "height": 204
        },
        "outputId": "645bd18e-cf07-4ec6-d555-d4de4726654c"
      },
      "source": [
        "train.head()"
      ],
      "execution_count": 5,
      "outputs": [
        {
          "output_type": "execute_result",
          "data": {
            "text/html": [
              "<div>\n",
              "<style scoped>\n",
              "    .dataframe tbody tr th:only-of-type {\n",
              "        vertical-align: middle;\n",
              "    }\n",
              "\n",
              "    .dataframe tbody tr th {\n",
              "        vertical-align: top;\n",
              "    }\n",
              "\n",
              "    .dataframe thead th {\n",
              "        text-align: right;\n",
              "    }\n",
              "</style>\n",
              "<table border=\"1\" class=\"dataframe\">\n",
              "  <thead>\n",
              "    <tr style=\"text-align: right;\">\n",
              "      <th></th>\n",
              "      <th>Insult</th>\n",
              "      <th>Date</th>\n",
              "      <th>Comment</th>\n",
              "    </tr>\n",
              "  </thead>\n",
              "  <tbody>\n",
              "    <tr>\n",
              "      <th>0</th>\n",
              "      <td>1</td>\n",
              "      <td>20120618192155Z</td>\n",
              "      <td>\"You fuck your dad.\"</td>\n",
              "    </tr>\n",
              "    <tr>\n",
              "      <th>1</th>\n",
              "      <td>0</td>\n",
              "      <td>20120528192215Z</td>\n",
              "      <td>\"i really don't understand your point.\\xa0 It ...</td>\n",
              "    </tr>\n",
              "    <tr>\n",
              "      <th>2</th>\n",
              "      <td>0</td>\n",
              "      <td>00000000000000Z</td>\n",
              "      <td>\"A\\\\xc2\\\\xa0majority of Canadians can and has ...</td>\n",
              "    </tr>\n",
              "    <tr>\n",
              "      <th>3</th>\n",
              "      <td>0</td>\n",
              "      <td>00000000000000Z</td>\n",
              "      <td>\"listen if you dont wanna get married to a man...</td>\n",
              "    </tr>\n",
              "    <tr>\n",
              "      <th>4</th>\n",
              "      <td>0</td>\n",
              "      <td>20120619094753Z</td>\n",
              "      <td>\"C\\xe1c b\\u1ea1n xu\\u1ed1ng \\u0111\\u01b0\\u1edd...</td>\n",
              "    </tr>\n",
              "  </tbody>\n",
              "</table>\n",
              "</div>"
            ],
            "text/plain": [
              "   Insult             Date                                            Comment\n",
              "0       1  20120618192155Z                               \"You fuck your dad.\"\n",
              "1       0  20120528192215Z  \"i really don't understand your point.\\xa0 It ...\n",
              "2       0  00000000000000Z  \"A\\\\xc2\\\\xa0majority of Canadians can and has ...\n",
              "3       0  00000000000000Z  \"listen if you dont wanna get married to a man...\n",
              "4       0  20120619094753Z  \"C\\xe1c b\\u1ea1n xu\\u1ed1ng \\u0111\\u01b0\\u1edd..."
            ]
          },
          "metadata": {
            "tags": []
          },
          "execution_count": 5
        }
      ]
    },
    {
      "cell_type": "code",
      "metadata": {
        "id": "YTZZmOGBhr5O",
        "colab": {
          "base_uri": "https://localhost:8080/",
          "height": 204
        },
        "outputId": "9d49767d-e4f4-4107-c930-3c54207f57e8"
      },
      "source": [
        "test.head()"
      ],
      "execution_count": 6,
      "outputs": [
        {
          "output_type": "execute_result",
          "data": {
            "text/html": [
              "<div>\n",
              "<style scoped>\n",
              "    .dataframe tbody tr th:only-of-type {\n",
              "        vertical-align: middle;\n",
              "    }\n",
              "\n",
              "    .dataframe tbody tr th {\n",
              "        vertical-align: top;\n",
              "    }\n",
              "\n",
              "    .dataframe thead th {\n",
              "        text-align: right;\n",
              "    }\n",
              "</style>\n",
              "<table border=\"1\" class=\"dataframe\">\n",
              "  <thead>\n",
              "    <tr style=\"text-align: right;\">\n",
              "      <th></th>\n",
              "      <th>Date</th>\n",
              "      <th>Comment</th>\n",
              "    </tr>\n",
              "  </thead>\n",
              "  <tbody>\n",
              "    <tr>\n",
              "      <th>0</th>\n",
              "      <td>20120603163526Z</td>\n",
              "      <td>\"like this if you are a tribe fan\"</td>\n",
              "    </tr>\n",
              "    <tr>\n",
              "      <th>1</th>\n",
              "      <td>20120531215447Z</td>\n",
              "      <td>\"you're idiot.......................\"</td>\n",
              "    </tr>\n",
              "    <tr>\n",
              "      <th>2</th>\n",
              "      <td>20120823164228Z</td>\n",
              "      <td>\"I am a woman Babs, and the only \"war on women...</td>\n",
              "    </tr>\n",
              "    <tr>\n",
              "      <th>3</th>\n",
              "      <td>20120826010752Z</td>\n",
              "      <td>\"WOW &amp; YOU BENEFITTED SO MANY WINS THIS YEAR F...</td>\n",
              "    </tr>\n",
              "    <tr>\n",
              "      <th>4</th>\n",
              "      <td>20120602223825Z</td>\n",
              "      <td>\"haha green me red you now loser whos winning ...</td>\n",
              "    </tr>\n",
              "  </tbody>\n",
              "</table>\n",
              "</div>"
            ],
            "text/plain": [
              "              Date                                            Comment\n",
              "0  20120603163526Z                 \"like this if you are a tribe fan\"\n",
              "1  20120531215447Z              \"you're idiot.......................\"\n",
              "2  20120823164228Z  \"I am a woman Babs, and the only \"war on women...\n",
              "3  20120826010752Z  \"WOW & YOU BENEFITTED SO MANY WINS THIS YEAR F...\n",
              "4  20120602223825Z  \"haha green me red you now loser whos winning ..."
            ]
          },
          "metadata": {
            "tags": []
          },
          "execution_count": 6
        }
      ]
    },
    {
      "cell_type": "code",
      "metadata": {
        "id": "zaxI4aP9hr5O"
      },
      "source": [
        "#get test set labels into a dataframe\n",
        "test_Y = pd.read_csv(\"gdrive/My Drive/Colab Notebooks/data/impermium_verification_labels.csv\", usecols=['Insult'])"
      ],
      "execution_count": 8,
      "outputs": []
    },
    {
      "cell_type": "code",
      "metadata": {
        "id": "8laybjh0hr5P"
      },
      "source": [
        "#create numpy arrays for sets' labels\n",
        "train_y = np.asarray(train['Insult'].tolist()) \n",
        "test_y = np.asarray(test_Y['Insult'].tolist())"
      ],
      "execution_count": 9,
      "outputs": []
    },
    {
      "cell_type": "markdown",
      "metadata": {
        "id": "0cyA3-7uhr5P"
      },
      "source": [
        "### Data Pre-processing"
      ]
    },
    {
      "cell_type": "code",
      "metadata": {
        "id": "USXHY85ohr5P"
      },
      "source": [
        "#function that removes all @mentions, links and non alphabetic strings \n",
        "def clean_content(text):\n",
        "    \n",
        "    text = re.sub(r'@[A-Za-z0-9_]+', '', text) #remove text with @ prefix\n",
        "    text = re.sub(r'http\\S+', '', text) #remove text with http prefix (links)  \n",
        "    text = re.sub(r'\\\\\\w+', '', str(text)) #remove text after backslash\n",
        "    text = re.sub(r'\\b\\w{1,2}\\b', '', text) #remove text containing 2 or less characters\n",
        "    \n",
        "    text =  ''.join(ch for ch in text if ch.isalpha() or ch == ' ')\n",
        "    \n",
        "    text = text.lower() #convert text into lowercase\n",
        "    \n",
        "    return text"
      ],
      "execution_count": 10,
      "outputs": []
    },
    {
      "cell_type": "code",
      "metadata": {
        "id": "wIHKL-Wmhr5Q"
      },
      "source": [
        "#create a column for each set containing the data of the first stage of processing\n",
        "for index, row in train.iterrows():\n",
        "    train.loc[index,'ProcessedComment'] = clean_content(train.loc[index,'Comment'])\n",
        "\n",
        "for index, row in test.iterrows():\n",
        "    test.loc[index,'ProcessedComment'] = clean_content(test.loc[index,'Comment'])"
      ],
      "execution_count": 11,
      "outputs": []
    },
    {
      "cell_type": "markdown",
      "metadata": {
        "id": "T2630qpOhr5Q"
      },
      "source": [
        "##### Display some samples of our processed data"
      ]
    },
    {
      "cell_type": "code",
      "metadata": {
        "id": "Ujv9o9X0hr5Q",
        "colab": {
          "base_uri": "https://localhost:8080/",
          "height": 204
        },
        "outputId": "f20df132-acde-4251-b3be-53f40d6a5c57"
      },
      "source": [
        "train.head()"
      ],
      "execution_count": 12,
      "outputs": [
        {
          "output_type": "execute_result",
          "data": {
            "text/html": [
              "<div>\n",
              "<style scoped>\n",
              "    .dataframe tbody tr th:only-of-type {\n",
              "        vertical-align: middle;\n",
              "    }\n",
              "\n",
              "    .dataframe tbody tr th {\n",
              "        vertical-align: top;\n",
              "    }\n",
              "\n",
              "    .dataframe thead th {\n",
              "        text-align: right;\n",
              "    }\n",
              "</style>\n",
              "<table border=\"1\" class=\"dataframe\">\n",
              "  <thead>\n",
              "    <tr style=\"text-align: right;\">\n",
              "      <th></th>\n",
              "      <th>Insult</th>\n",
              "      <th>Date</th>\n",
              "      <th>Comment</th>\n",
              "      <th>ProcessedComment</th>\n",
              "    </tr>\n",
              "  </thead>\n",
              "  <tbody>\n",
              "    <tr>\n",
              "      <th>0</th>\n",
              "      <td>1</td>\n",
              "      <td>20120618192155Z</td>\n",
              "      <td>\"You fuck your dad.\"</td>\n",
              "      <td>you fuck your dad</td>\n",
              "    </tr>\n",
              "    <tr>\n",
              "      <th>1</th>\n",
              "      <td>0</td>\n",
              "      <td>20120528192215Z</td>\n",
              "      <td>\"i really don't understand your point.\\xa0 It ...</td>\n",
              "      <td>really don understand your point  seems that ...</td>\n",
              "    </tr>\n",
              "    <tr>\n",
              "      <th>2</th>\n",
              "      <td>0</td>\n",
              "      <td>00000000000000Z</td>\n",
              "      <td>\"A\\\\xc2\\\\xa0majority of Canadians can and has ...</td>\n",
              "      <td>canadians can and has been wrong before now ...</td>\n",
              "    </tr>\n",
              "    <tr>\n",
              "      <th>3</th>\n",
              "      <td>0</td>\n",
              "      <td>00000000000000Z</td>\n",
              "      <td>\"listen if you dont wanna get married to a man...</td>\n",
              "      <td>listen  you dont wanna get married   man   wom...</td>\n",
              "    </tr>\n",
              "    <tr>\n",
              "      <th>4</th>\n",
              "      <td>0</td>\n",
              "      <td>20120619094753Z</td>\n",
              "      <td>\"C\\xe1c b\\u1ea1n xu\\u1ed1ng \\u0111\\u01b0\\u1edd...</td>\n",
              "      <td>chi             giang       ...</td>\n",
              "    </tr>\n",
              "  </tbody>\n",
              "</table>\n",
              "</div>"
            ],
            "text/plain": [
              "   Insult  ...                                   ProcessedComment\n",
              "0       1  ...                                  you fuck your dad\n",
              "1       0  ...   really don understand your point  seems that ...\n",
              "2       0  ...    canadians can and has been wrong before now ...\n",
              "3       0  ...  listen  you dont wanna get married   man   wom...\n",
              "4       0  ...                    chi             giang       ...\n",
              "\n",
              "[5 rows x 4 columns]"
            ]
          },
          "metadata": {
            "tags": []
          },
          "execution_count": 12
        }
      ]
    },
    {
      "cell_type": "code",
      "metadata": {
        "id": "YOF8nXwJhr5R",
        "colab": {
          "base_uri": "https://localhost:8080/",
          "height": 204
        },
        "outputId": "5669a9b3-2f40-443b-e180-ab085f3f4dd8"
      },
      "source": [
        "test.head()"
      ],
      "execution_count": 13,
      "outputs": [
        {
          "output_type": "execute_result",
          "data": {
            "text/html": [
              "<div>\n",
              "<style scoped>\n",
              "    .dataframe tbody tr th:only-of-type {\n",
              "        vertical-align: middle;\n",
              "    }\n",
              "\n",
              "    .dataframe tbody tr th {\n",
              "        vertical-align: top;\n",
              "    }\n",
              "\n",
              "    .dataframe thead th {\n",
              "        text-align: right;\n",
              "    }\n",
              "</style>\n",
              "<table border=\"1\" class=\"dataframe\">\n",
              "  <thead>\n",
              "    <tr style=\"text-align: right;\">\n",
              "      <th></th>\n",
              "      <th>Date</th>\n",
              "      <th>Comment</th>\n",
              "      <th>ProcessedComment</th>\n",
              "    </tr>\n",
              "  </thead>\n",
              "  <tbody>\n",
              "    <tr>\n",
              "      <th>0</th>\n",
              "      <td>20120603163526Z</td>\n",
              "      <td>\"like this if you are a tribe fan\"</td>\n",
              "      <td>like this  you are  tribe fan</td>\n",
              "    </tr>\n",
              "    <tr>\n",
              "      <th>1</th>\n",
              "      <td>20120531215447Z</td>\n",
              "      <td>\"you're idiot.......................\"</td>\n",
              "      <td>you idiot</td>\n",
              "    </tr>\n",
              "    <tr>\n",
              "      <th>2</th>\n",
              "      <td>20120823164228Z</td>\n",
              "      <td>\"I am a woman Babs, and the only \"war on women...</td>\n",
              "      <td>woman babs and the only war  women  see  co...</td>\n",
              "    </tr>\n",
              "    <tr>\n",
              "      <th>3</th>\n",
              "      <td>20120826010752Z</td>\n",
              "      <td>\"WOW &amp; YOU BENEFITTED SO MANY WINS THIS YEAR F...</td>\n",
              "      <td>wow  you benefitted  many wins this year from ...</td>\n",
              "    </tr>\n",
              "    <tr>\n",
              "      <th>4</th>\n",
              "      <td>20120602223825Z</td>\n",
              "      <td>\"haha green me red you now loser whos winning ...</td>\n",
              "      <td>haha green  red you now loser whos winning now...</td>\n",
              "    </tr>\n",
              "  </tbody>\n",
              "</table>\n",
              "</div>"
            ],
            "text/plain": [
              "              Date  ...                                   ProcessedComment\n",
              "0  20120603163526Z  ...                      like this  you are  tribe fan\n",
              "1  20120531215447Z  ...                                          you idiot\n",
              "2  20120823164228Z  ...     woman babs and the only war  women  see  co...\n",
              "3  20120826010752Z  ...  wow  you benefitted  many wins this year from ...\n",
              "4  20120602223825Z  ...  haha green  red you now loser whos winning now...\n",
              "\n",
              "[5 rows x 3 columns]"
            ]
          },
          "metadata": {
            "tags": []
          },
          "execution_count": 13
        }
      ]
    },
    {
      "cell_type": "markdown",
      "metadata": {
        "id": "_ZMEoGr2hr5R"
      },
      "source": [
        "# <h1><center>CLASSIFICATION</center></h1>"
      ]
    },
    {
      "cell_type": "markdown",
      "metadata": {
        "id": "k2n5q91Dhr5R"
      },
      "source": [
        "## Word Counts (Basic)"
      ]
    },
    {
      "cell_type": "code",
      "metadata": {
        "id": "vKC1YnYLhr5S"
      },
      "source": [
        "from sklearn.feature_extraction.text import CountVectorizer\n",
        "\n",
        "#transorm comments to word vectors (pre-lemmatized, unigrams, stopwords not removed)\n",
        "countVectorizer = CountVectorizer(max_df=0.99, min_df=1, max_features=400, ngram_range=(1,1), analyzer='word')"
      ],
      "execution_count": 14,
      "outputs": []
    },
    {
      "cell_type": "code",
      "metadata": {
        "id": "jXisKzy8hr5S"
      },
      "source": [
        "bow = countVectorizer.fit_transform(train['ProcessedComment'])\n",
        "\n",
        "vectors = []\n",
        "for v in bow.toarray():\n",
        "    vectors.append(v)\n",
        "\n",
        "#create a column in train set with comments' words counts   \n",
        "train['WordVecs'] = pd.Series(vectors,index=train.index)\n",
        "\n",
        "#apply transformation to test set\n",
        "bow1 = countVectorizer.transform(test['ProcessedComment'])\n",
        "\n",
        "vectors1 = []\n",
        "for v in bow1.toarray():\n",
        "    vectors1.append(v)\n",
        "\n",
        "#create a column in test set with comments' words counts   \n",
        "test['WordVecs'] = pd.Series(vectors1,index=test.index)"
      ],
      "execution_count": 15,
      "outputs": []
    },
    {
      "cell_type": "code",
      "metadata": {
        "id": "5eW17gvZhr5S"
      },
      "source": [
        "#create numpy arrays containing word vectors\n",
        "train_bow = np.asarray(train['WordVecs'].tolist())\n",
        "test_bow = np.asarray(test['WordVecs'].tolist())"
      ],
      "execution_count": 16,
      "outputs": []
    },
    {
      "cell_type": "markdown",
      "metadata": {
        "id": "tTn48n2Mhr5S"
      },
      "source": [
        "## Naive Bayes"
      ]
    },
    {
      "cell_type": "code",
      "metadata": {
        "id": "Ti83E0CKhr5T"
      },
      "source": [
        "#create a table to display the accuracy and F1-score of the Naive Bayes Classifiers \n",
        "nb_dic = {'GNB':['-','-','-'], 'MNB':['-','-','-'], 'MNB-LEM':['-','-','-'], 'MNB-SW':['-','-','-'], \n",
        "          'MNB-BG':['-','-','-'], 'MNB-LS':['-','-','-']}\n",
        "\n",
        "nb_df = pd.DataFrame.from_dict(nb_dic, orient='index', columns=['Accuracy','F1_Macro','F1_Weighted'])"
      ],
      "execution_count": 17,
      "outputs": []
    },
    {
      "cell_type": "markdown",
      "metadata": {
        "id": "O9jQfKWshr5T"
      },
      "source": [
        "### Gaussian Naive Bayes"
      ]
    },
    {
      "cell_type": "code",
      "metadata": {
        "id": "EmzmH1kWhr5T"
      },
      "source": [
        "from sklearn.naive_bayes import GaussianNB\n",
        "\n",
        "#Normal (Gaussian) Naive Bayes Classifier using word counts features without lemmatization, stopwords removal and bigrams \n",
        "gnb_bow = GaussianNB() \n",
        "gnb_bow.fit(train_bow, train_y)\n",
        "y_pred_gnb_bow = gnb_bow.predict(test_bow) #prediction on test set\n",
        "\n",
        "nb_df.loc['GNB','Accuracy'] = \"%.3f%%\" % (metrics.accuracy_score(test_y, y_pred_gnb_bow) * 100)\n",
        "nb_df.loc['GNB','F1_Macro'] = \"%.3f%%\" % (metrics.f1_score(test_y, y_pred_gnb_bow, average='macro') * 100)\n",
        "nb_df.loc['GNB','F1_Weighted'] = \"%.3f%%\" % (metrics.f1_score(test_y, y_pred_gnb_bow, average='weighted') * 100)"
      ],
      "execution_count": 18,
      "outputs": []
    },
    {
      "cell_type": "markdown",
      "metadata": {
        "id": "vfrQmhZ3hr5T"
      },
      "source": [
        "### Multinomial Naive Bayes"
      ]
    },
    {
      "cell_type": "code",
      "metadata": {
        "id": "Cf18USLKhr5U"
      },
      "source": [
        "from sklearn.naive_bayes import MultinomialNB\n",
        "\n",
        "#Multinomial Naive Bayes Classifier using word counts features \n",
        "#without lemmatization, stopwords removal, bigrams and Laplace Smoothing (Laplace smoothing parameter ~= 0)\n",
        "mnb_bow = MultinomialNB(alpha=1e-10) \n",
        "mnb_bow.fit(train_bow, train_y)\n",
        "y_pred_mnb_bow = mnb_bow.predict(test_bow) #prediction on test set\n",
        "\n",
        "nb_df.loc['MNB','Accuracy'] = \"%.3f%%\" % (metrics.accuracy_score(test_y, y_pred_mnb_bow) * 100)\n",
        "nb_df.loc['MNB','F1_Macro'] = \"%.3f%%\" % (metrics.f1_score(test_y, y_pred_mnb_bow, average='macro') * 100)\n",
        "nb_df.loc['MNB','F1_Weighted'] = \"%.3f%%\" % (metrics.f1_score(test_y, y_pred_mnb_bow, average='weighted') * 100)"
      ],
      "execution_count": 19,
      "outputs": []
    },
    {
      "cell_type": "markdown",
      "metadata": {
        "id": "S-MdHmWchr5U"
      },
      "source": [
        "## Word Counts (Extended)"
      ]
    },
    {
      "cell_type": "markdown",
      "metadata": {
        "id": "dK2i1kMbhr5U"
      },
      "source": [
        "### Tokenization"
      ]
    },
    {
      "cell_type": "code",
      "metadata": {
        "id": "ys3ORXmIhr5U"
      },
      "source": [
        "from nltk.tokenize import TweetTokenizer\n",
        "\n",
        "tknzr = TweetTokenizer()\n",
        "\n",
        "tokens = []\n",
        "for index, row in train.iterrows(): #add each comment's token in a list\n",
        "    toks = tknzr.tokenize(train.loc[index,'ProcessedComment'])\n",
        "    tokens.append(toks)\n",
        "\n",
        "#create a column in train set with comments' tokens \n",
        "train['Tokens'] = pd.Series(tokens,index=train.index)"
      ],
      "execution_count": 20,
      "outputs": []
    },
    {
      "cell_type": "code",
      "metadata": {
        "id": "uTvfA44dhr5V"
      },
      "source": [
        "tokens = []\n",
        "for index, row in test.iterrows(): #add each comment's token in a list\n",
        "    toks = tknzr.tokenize(test.loc[index,'ProcessedComment'])\n",
        "    tokens.append(toks)\n",
        "    \n",
        "#create a column in test set with comments' tokens   \n",
        "test['Tokens'] = pd.Series(tokens,index=test.index)"
      ],
      "execution_count": 21,
      "outputs": []
    },
    {
      "cell_type": "markdown",
      "metadata": {
        "id": "CqxIsppYhr5V"
      },
      "source": [
        "## I. Lemmatization"
      ]
    },
    {
      "cell_type": "code",
      "metadata": {
        "colab": {
          "base_uri": "https://localhost:8080/"
        },
        "id": "JiaKtJlFGzYZ",
        "outputId": "716efdb4-9c01-4d95-ee36-1028f6d247c9"
      },
      "source": [
        "nltk.download('wordnet')"
      ],
      "execution_count": 26,
      "outputs": [
        {
          "output_type": "stream",
          "text": [
            "[nltk_data] Downloading package wordnet to /root/nltk_data...\n",
            "[nltk_data]   Unzipping corpora/wordnet.zip.\n"
          ],
          "name": "stdout"
        },
        {
          "output_type": "execute_result",
          "data": {
            "text/plain": [
              "True"
            ]
          },
          "metadata": {
            "tags": []
          },
          "execution_count": 26
        }
      ]
    },
    {
      "cell_type": "code",
      "metadata": {
        "id": "9MpwR-dGhr5V"
      },
      "source": [
        "from nltk.stem import WordNetLemmatizer\n",
        "\n",
        "#lemmatization on train set\n",
        "lemmatizer = WordNetLemmatizer()\n",
        "\n",
        "lemComment = []\n",
        "for index, row in train.iterrows(): #add each token's lemma in a list\n",
        "    lemmas = []\n",
        "    for token in train.loc[index,'Tokens']:\n",
        "        lemmas.append(lemmatizer.lemmatize(token)) #lemmatize each token\n",
        "    lemComment.append(lemmas)\n",
        "\n",
        "#replace train set's tokens with their lemmas\n",
        "train.drop(['Tokens'],1,inplace=True)\n",
        "train['Tokens'] = pd.Series(lemComment,index=train.index)"
      ],
      "execution_count": 27,
      "outputs": []
    },
    {
      "cell_type": "code",
      "metadata": {
        "id": "D2nEkB6ahr5V"
      },
      "source": [
        "#lemmatization on test set\n",
        "lemmatizer = WordNetLemmatizer()\n",
        "\n",
        "lemComment = []\n",
        "for index, row in test.iterrows(): #add each token's lemma in a list\n",
        "    lemmas = []\n",
        "    for token in test.loc[index,'Tokens']:\n",
        "        lemmas.append(lemmatizer.lemmatize(token)) #lemmatize each token\n",
        "    lemComment.append(lemmas)\n",
        "\n",
        "#replace test set's tokens with their lemmas    \n",
        "test.drop(['Tokens'],1,inplace=True)\n",
        "test['Tokens'] = pd.Series(lemComment,index=test.index)"
      ],
      "execution_count": 28,
      "outputs": []
    },
    {
      "cell_type": "code",
      "metadata": {
        "id": "1SeqZykihr5W"
      },
      "source": [
        "#create a new column in train and test sets with lemmatized comments \n",
        "train['LemComment']= train['Tokens'].str.join(' ') \n",
        "test['LemComment']= test['Tokens'].str.join(' ') "
      ],
      "execution_count": 29,
      "outputs": []
    },
    {
      "cell_type": "code",
      "metadata": {
        "id": "EpJfc6L9hr5W"
      },
      "source": [
        "#transorm comments to word vectors (lemmatized, unigrams, stopwords not removed)\n",
        "countVectorizer = CountVectorizer(max_df=0.99, min_df=1, max_features=400, ngram_range=(1,1), analyzer='word')"
      ],
      "execution_count": 30,
      "outputs": []
    },
    {
      "cell_type": "code",
      "metadata": {
        "id": "-2b5gsYChr5X"
      },
      "source": [
        "bow = countVectorizer.fit_transform(train['LemComment'])\n",
        "\n",
        "vectors = []\n",
        "for v in bow.toarray():\n",
        "    vectors.append(v)\n",
        "\n",
        "#create a column in train set with lemmatized comments' words counts   \n",
        "train['LemWordVecs'] = pd.Series(vectors,index=train.index)\n",
        "\n",
        "#apply transformation to test set\n",
        "bow1 = countVectorizer.transform(test['LemComment'])\n",
        "\n",
        "vectors1 = []\n",
        "for v in bow1.toarray():\n",
        "    vectors1.append(v)\n",
        "\n",
        "#create a column in test set with lemmatized comments' words counts   \n",
        "test['LemWordVecs'] = pd.Series(vectors1,index=test.index)"
      ],
      "execution_count": 31,
      "outputs": []
    },
    {
      "cell_type": "code",
      "metadata": {
        "id": "iERtBuoPhr5X"
      },
      "source": [
        "#create numpy arrays containing word vectors after lemmatization\n",
        "train_bow_lem = np.asarray(train['LemWordVecs'].tolist())\n",
        "test_bow_lem = np.asarray(test['LemWordVecs'].tolist())"
      ],
      "execution_count": 32,
      "outputs": []
    },
    {
      "cell_type": "markdown",
      "metadata": {
        "id": "loRvXv7mhr5X"
      },
      "source": [
        "### Multinomial Naive Bayes"
      ]
    },
    {
      "cell_type": "code",
      "metadata": {
        "id": "j9bGhqcehr5X"
      },
      "source": [
        "#Multinomial Naive Bayes Classifier using word counts features after lemmatization\n",
        "#without stopwords removal, bigrams and Laplace Smoothing (Laplace smoothing parameter ~= 0)\n",
        "mnb_bow_lem = MultinomialNB(alpha=1e-10) \n",
        "mnb_bow_lem.fit(train_bow_lem, train_y)\n",
        "y_pred_mnb_bow_lem = mnb_bow_lem.predict(test_bow_lem) #prediction on test set\n",
        "\n",
        "nb_df.loc['MNB-LEM','Accuracy'] = \"%.3f%%\" % (metrics.accuracy_score(test_y, y_pred_mnb_bow_lem) * 100)\n",
        "nb_df.loc['MNB-LEM','F1_Macro'] = \"%.3f%%\" % (metrics.f1_score(test_y, y_pred_mnb_bow_lem, average='macro') * 100)\n",
        "nb_df.loc['MNB-LEM','F1_Weighted'] = \"%.3f%%\" % (metrics.f1_score(test_y, y_pred_mnb_bow_lem, average='weighted') * 100)"
      ],
      "execution_count": 33,
      "outputs": []
    },
    {
      "cell_type": "markdown",
      "metadata": {
        "id": "8Kvh-CMOhr5Y"
      },
      "source": [
        "## II. Stopwords Removal"
      ]
    },
    {
      "cell_type": "code",
      "metadata": {
        "id": "PPw8eSexhr5Y"
      },
      "source": [
        "#transorm comments to word vectors (pre-lemmatized, unigrams, stopwords removed)\n",
        "countVectorizer = CountVectorizer(max_df=0.99, min_df=1, max_features=400, stop_words='english', \n",
        "                                      ngram_range=(1,1), analyzer='word')"
      ],
      "execution_count": 34,
      "outputs": []
    },
    {
      "cell_type": "code",
      "metadata": {
        "id": "F8v5ZwrJhr5Y"
      },
      "source": [
        "bow = countVectorizer.fit_transform(train['ProcessedComment'])\n",
        "\n",
        "vectors = []\n",
        "for v in bow.toarray():\n",
        "    vectors.append(v)\n",
        "\n",
        "#create a column in train set with (stopwords removed) comments' words counts   \n",
        "train['SWordVecs'] = pd.Series(vectors,index=train.index)\n",
        "\n",
        "#apply transformation to test set\n",
        "bow1 = countVectorizer.transform(test['ProcessedComment'])\n",
        "\n",
        "vectors1 = []\n",
        "for v in bow1.toarray():\n",
        "    vectors1.append(v)\n",
        "\n",
        "#create a column in test set with (stopwords removed) comments' words counts   \n",
        "test['SWordVecs'] = pd.Series(vectors1,index=test.index)"
      ],
      "execution_count": 35,
      "outputs": []
    },
    {
      "cell_type": "code",
      "metadata": {
        "id": "YPPrUtHqhr5Y"
      },
      "source": [
        "#create numpy arrays containing word vectors with removed stopwords\n",
        "train_bow_sw = np.asarray(train['SWordVecs'].tolist())\n",
        "test_bow_sw = np.asarray(test['SWordVecs'].tolist())"
      ],
      "execution_count": 36,
      "outputs": []
    },
    {
      "cell_type": "markdown",
      "metadata": {
        "id": "-7D36tXfhr5Z"
      },
      "source": [
        "### Multinomial Naive Bayes"
      ]
    },
    {
      "cell_type": "code",
      "metadata": {
        "id": "wsRnyFPlhr5Z"
      },
      "source": [
        "#Multinomial Naive Bayes Classifier using word counts features with stopwords removal\n",
        "#without lemmatization, bigrams and Laplace Smoothing (Laplace smoothing parameter ~= 0)\n",
        "mnb_bow_sw = MultinomialNB(alpha=1e-10) \n",
        "mnb_bow_sw.fit(train_bow_sw, train_y)\n",
        "y_pred_mnb_bow_sw = mnb_bow_sw.predict(test_bow_sw) #prediction on test set\n",
        "\n",
        "nb_df.loc['MNB-SW','Accuracy'] = \"%.3f%%\" % (metrics.accuracy_score(test_y, y_pred_mnb_bow_sw) * 100)\n",
        "nb_df.loc['MNB-SW','F1_Macro'] = \"%.3f%%\" % (metrics.f1_score(test_y, y_pred_mnb_bow_sw, average='macro') * 100)\n",
        "nb_df.loc['MNB-SW','F1_Weighted'] = \"%.3f%%\" % (metrics.f1_score(test_y, y_pred_mnb_bow_sw, average='weighted') * 100)"
      ],
      "execution_count": 37,
      "outputs": []
    },
    {
      "cell_type": "markdown",
      "metadata": {
        "id": "FGMCRwthhr5Z"
      },
      "source": [
        "## III. Bigrams"
      ]
    },
    {
      "cell_type": "code",
      "metadata": {
        "id": "Rov36w3dhr5a"
      },
      "source": [
        "#transorm comments to word vectors (pre-lemmatized, bigrams, stopwords not removed)\n",
        "countVectorizer = CountVectorizer(max_df=0.99, min_df=1, max_features=400, ngram_range=(2,2), analyzer='word')"
      ],
      "execution_count": 38,
      "outputs": []
    },
    {
      "cell_type": "code",
      "metadata": {
        "id": "vb9AjKTshr5a"
      },
      "source": [
        "bow = countVectorizer.fit_transform(train['ProcessedComment'])\n",
        "\n",
        "vectors = []\n",
        "for v in bow.toarray():\n",
        "    vectors.append(v)\n",
        "\n",
        "#create a column in train set with (bigram) comments' words counts   \n",
        "train['BGWordVecs'] = pd.Series(vectors,index=train.index)\n",
        "\n",
        "#apply transformation to test set\n",
        "bow1 = countVectorizer.transform(test['ProcessedComment'])\n",
        "\n",
        "vectors1 = []\n",
        "for v in bow1.toarray():\n",
        "    vectors1.append(v)\n",
        "\n",
        "#create a column in test set with (bigram) comments' words counts   \n",
        "test['BGWordVecs'] = pd.Series(vectors1,index=test.index)"
      ],
      "execution_count": 39,
      "outputs": []
    },
    {
      "cell_type": "code",
      "metadata": {
        "id": "zstiKexMhr5a"
      },
      "source": [
        "#create numpy arrays containing word vectors with bigrams\n",
        "train_bow_bg = np.asarray(train['BGWordVecs'].tolist())\n",
        "test_bow_bg = np.asarray(test['BGWordVecs'].tolist())"
      ],
      "execution_count": 40,
      "outputs": []
    },
    {
      "cell_type": "markdown",
      "metadata": {
        "id": "BtnOUP6jhr5a"
      },
      "source": [
        "### Multinomial Naive Bayes"
      ]
    },
    {
      "cell_type": "code",
      "metadata": {
        "id": "XsGVZ6tshr5b"
      },
      "source": [
        "#Multinomial Naive Bayes Classifier using word counts features with bigrams\n",
        "#without lemmatization, stopwords removal and Laplace Smoothing (Laplace smoothing parameter ~= 0)\n",
        "mnb_bow_bg = MultinomialNB(alpha=1e-10) \n",
        "mnb_bow_bg.fit(train_bow_bg, train_y)\n",
        "y_pred_mnb_bow_bg = mnb_bow_bg.predict(test_bow_bg) #prediction on test set\n",
        "\n",
        "nb_df.loc['MNB-BG','Accuracy'] = \"%.3f%%\" % (metrics.accuracy_score(test_y, y_pred_mnb_bow_bg) * 100)\n",
        "nb_df.loc['MNB-BG','F1_Macro'] = \"%.3f%%\" % (metrics.f1_score(test_y, y_pred_mnb_bow_bg, average='macro') * 100)\n",
        "nb_df.loc['MNB-BG','F1_Weighted'] = \"%.3f%%\" % (metrics.f1_score(test_y, y_pred_mnb_bow_bg, average='weighted') * 100)"
      ],
      "execution_count": 41,
      "outputs": []
    },
    {
      "cell_type": "markdown",
      "metadata": {
        "id": "Q2Q1G5e6hr5b"
      },
      "source": [
        "## IV. Laplace Smoothing"
      ]
    },
    {
      "cell_type": "markdown",
      "metadata": {
        "id": "GTIw7og1hr5b"
      },
      "source": [
        "### Multinomial Naive Bayes"
      ]
    },
    {
      "cell_type": "code",
      "metadata": {
        "id": "7Y-8h3n3hr5b"
      },
      "source": [
        "#Multinomial Naive Bayes Classifier using word counts features with Laplace Smoothing \n",
        "#without lemmatization, stopwords removal and bigrams\n",
        "mnb_bow2 = MultinomialNB(alpha=1.0) \n",
        "mnb_bow2.fit(train_bow, train_y)\n",
        "y_pred_mnb_bow2 = mnb_bow2.predict(test_bow) #prediction on test set\n",
        "\n",
        "nb_df.loc['MNB-LS','Accuracy'] = \"%.3f%%\" % (metrics.accuracy_score(test_y, y_pred_mnb_bow2) * 100)\n",
        "nb_df.loc['MNB-LS','F1_Macro'] = \"%.3f%%\" % (metrics.f1_score(test_y, y_pred_mnb_bow2, average='macro') * 100)\n",
        "nb_df.loc['MNB-LS','F1_Weighted'] = \"%.3f%%\" % (metrics.f1_score(test_y, y_pred_mnb_bow2, average='weighted') * 100)"
      ],
      "execution_count": 42,
      "outputs": []
    },
    {
      "cell_type": "markdown",
      "metadata": {
        "id": "jtI-6gdVhr5c"
      },
      "source": [
        "##### Display some samples of our data with the new inserted word vectors columns"
      ]
    },
    {
      "cell_type": "code",
      "metadata": {
        "id": "nXdqnlQ9hr5c",
        "colab": {
          "base_uri": "https://localhost:8080/",
          "height": 391
        },
        "outputId": "ec8b3cb1-7a86-4210-e5c4-1a92d6b4114d"
      },
      "source": [
        "train.head()"
      ],
      "execution_count": 43,
      "outputs": [
        {
          "output_type": "execute_result",
          "data": {
            "text/html": [
              "<div>\n",
              "<style scoped>\n",
              "    .dataframe tbody tr th:only-of-type {\n",
              "        vertical-align: middle;\n",
              "    }\n",
              "\n",
              "    .dataframe tbody tr th {\n",
              "        vertical-align: top;\n",
              "    }\n",
              "\n",
              "    .dataframe thead th {\n",
              "        text-align: right;\n",
              "    }\n",
              "</style>\n",
              "<table border=\"1\" class=\"dataframe\">\n",
              "  <thead>\n",
              "    <tr style=\"text-align: right;\">\n",
              "      <th></th>\n",
              "      <th>Insult</th>\n",
              "      <th>Date</th>\n",
              "      <th>Comment</th>\n",
              "      <th>ProcessedComment</th>\n",
              "      <th>WordVecs</th>\n",
              "      <th>Tokens</th>\n",
              "      <th>LemComment</th>\n",
              "      <th>LemWordVecs</th>\n",
              "      <th>SWordVecs</th>\n",
              "      <th>BGWordVecs</th>\n",
              "    </tr>\n",
              "  </thead>\n",
              "  <tbody>\n",
              "    <tr>\n",
              "      <th>0</th>\n",
              "      <td>1</td>\n",
              "      <td>20120618192155Z</td>\n",
              "      <td>\"You fuck your dad.\"</td>\n",
              "      <td>you fuck your dad</td>\n",
              "      <td>[0, 0, 0, 0, 0, 0, 0, 0, 0, 0, 0, 0, 0, 0, 0, ...</td>\n",
              "      <td>[you, fuck, your, dad]</td>\n",
              "      <td>you fuck your dad</td>\n",
              "      <td>[0, 0, 0, 0, 0, 0, 0, 0, 0, 0, 0, 0, 0, 0, 0, ...</td>\n",
              "      <td>[0, 0, 0, 0, 0, 0, 0, 0, 0, 0, 0, 0, 0, 0, 0, ...</td>\n",
              "      <td>[0, 0, 0, 0, 0, 0, 0, 0, 0, 0, 0, 0, 0, 0, 0, ...</td>\n",
              "    </tr>\n",
              "    <tr>\n",
              "      <th>1</th>\n",
              "      <td>0</td>\n",
              "      <td>20120528192215Z</td>\n",
              "      <td>\"i really don't understand your point.\\xa0 It ...</td>\n",
              "      <td>really don understand your point  seems that ...</td>\n",
              "      <td>[0, 0, 0, 0, 0, 0, 0, 0, 0, 0, 0, 0, 0, 0, 0, ...</td>\n",
              "      <td>[really, don, understand, your, point, seems, ...</td>\n",
              "      <td>really don understand your point seems that yo...</td>\n",
              "      <td>[0, 0, 0, 0, 0, 0, 0, 0, 0, 0, 0, 0, 0, 0, 1, ...</td>\n",
              "      <td>[0, 0, 0, 0, 0, 0, 0, 0, 0, 0, 0, 0, 0, 0, 0, ...</td>\n",
              "      <td>[0, 0, 0, 0, 0, 0, 0, 0, 0, 0, 0, 0, 0, 0, 0, ...</td>\n",
              "    </tr>\n",
              "    <tr>\n",
              "      <th>2</th>\n",
              "      <td>0</td>\n",
              "      <td>00000000000000Z</td>\n",
              "      <td>\"A\\\\xc2\\\\xa0majority of Canadians can and has ...</td>\n",
              "      <td>canadians can and has been wrong before now ...</td>\n",
              "      <td>[0, 0, 0, 0, 1, 0, 0, 0, 0, 0, 0, 1, 0, 0, 0, ...</td>\n",
              "      <td>[canadian, can, and, ha, been, wrong, before, ...</td>\n",
              "      <td>canadian can and ha been wrong before now and ...</td>\n",
              "      <td>[0, 0, 0, 0, 1, 0, 0, 0, 0, 0, 0, 1, 0, 0, 5, ...</td>\n",
              "      <td>[0, 0, 0, 0, 0, 0, 0, 0, 0, 0, 0, 0, 0, 0, 0, ...</td>\n",
              "      <td>[0, 0, 0, 0, 0, 0, 0, 0, 0, 0, 0, 0, 0, 0, 0, ...</td>\n",
              "    </tr>\n",
              "    <tr>\n",
              "      <th>3</th>\n",
              "      <td>0</td>\n",
              "      <td>00000000000000Z</td>\n",
              "      <td>\"listen if you dont wanna get married to a man...</td>\n",
              "      <td>listen  you dont wanna get married   man   wom...</td>\n",
              "      <td>[0, 0, 0, 0, 0, 0, 0, 0, 0, 0, 0, 0, 0, 0, 0, ...</td>\n",
              "      <td>[listen, you, dont, wanna, get, married, man, ...</td>\n",
              "      <td>listen you dont wanna get married man woman do...</td>\n",
              "      <td>[0, 0, 0, 0, 0, 0, 0, 0, 0, 0, 0, 0, 0, 0, 1, ...</td>\n",
              "      <td>[0, 0, 0, 0, 0, 0, 0, 0, 0, 0, 0, 0, 0, 0, 0, ...</td>\n",
              "      <td>[0, 0, 0, 0, 0, 0, 0, 0, 0, 0, 0, 0, 0, 0, 0, ...</td>\n",
              "    </tr>\n",
              "    <tr>\n",
              "      <th>4</th>\n",
              "      <td>0</td>\n",
              "      <td>20120619094753Z</td>\n",
              "      <td>\"C\\xe1c b\\u1ea1n xu\\u1ed1ng \\u0111\\u01b0\\u1edd...</td>\n",
              "      <td>chi             giang       ...</td>\n",
              "      <td>[0, 0, 0, 0, 0, 0, 0, 0, 0, 0, 0, 0, 0, 0, 0, ...</td>\n",
              "      <td>[chi, giang, chu, khi, sau, chi, tranh, con]</td>\n",
              "      <td>chi giang chu khi sau chi tranh con</td>\n",
              "      <td>[0, 0, 0, 0, 0, 0, 0, 0, 0, 0, 0, 0, 0, 0, 0, ...</td>\n",
              "      <td>[0, 0, 0, 0, 0, 0, 0, 0, 0, 0, 0, 0, 0, 0, 0, ...</td>\n",
              "      <td>[0, 0, 0, 0, 0, 0, 0, 0, 0, 0, 0, 0, 0, 0, 0, ...</td>\n",
              "    </tr>\n",
              "  </tbody>\n",
              "</table>\n",
              "</div>"
            ],
            "text/plain": [
              "   Insult  ...                                         BGWordVecs\n",
              "0       1  ...  [0, 0, 0, 0, 0, 0, 0, 0, 0, 0, 0, 0, 0, 0, 0, ...\n",
              "1       0  ...  [0, 0, 0, 0, 0, 0, 0, 0, 0, 0, 0, 0, 0, 0, 0, ...\n",
              "2       0  ...  [0, 0, 0, 0, 0, 0, 0, 0, 0, 0, 0, 0, 0, 0, 0, ...\n",
              "3       0  ...  [0, 0, 0, 0, 0, 0, 0, 0, 0, 0, 0, 0, 0, 0, 0, ...\n",
              "4       0  ...  [0, 0, 0, 0, 0, 0, 0, 0, 0, 0, 0, 0, 0, 0, 0, ...\n",
              "\n",
              "[5 rows x 10 columns]"
            ]
          },
          "metadata": {
            "tags": []
          },
          "execution_count": 43
        }
      ]
    },
    {
      "cell_type": "code",
      "metadata": {
        "id": "8mtYyvx2hr5c",
        "colab": {
          "base_uri": "https://localhost:8080/",
          "height": 374
        },
        "outputId": "b916b2a9-5f82-4bc9-8d85-a1d72f0ea893"
      },
      "source": [
        "test.head()"
      ],
      "execution_count": 44,
      "outputs": [
        {
          "output_type": "execute_result",
          "data": {
            "text/html": [
              "<div>\n",
              "<style scoped>\n",
              "    .dataframe tbody tr th:only-of-type {\n",
              "        vertical-align: middle;\n",
              "    }\n",
              "\n",
              "    .dataframe tbody tr th {\n",
              "        vertical-align: top;\n",
              "    }\n",
              "\n",
              "    .dataframe thead th {\n",
              "        text-align: right;\n",
              "    }\n",
              "</style>\n",
              "<table border=\"1\" class=\"dataframe\">\n",
              "  <thead>\n",
              "    <tr style=\"text-align: right;\">\n",
              "      <th></th>\n",
              "      <th>Date</th>\n",
              "      <th>Comment</th>\n",
              "      <th>ProcessedComment</th>\n",
              "      <th>WordVecs</th>\n",
              "      <th>Tokens</th>\n",
              "      <th>LemComment</th>\n",
              "      <th>LemWordVecs</th>\n",
              "      <th>SWordVecs</th>\n",
              "      <th>BGWordVecs</th>\n",
              "    </tr>\n",
              "  </thead>\n",
              "  <tbody>\n",
              "    <tr>\n",
              "      <th>0</th>\n",
              "      <td>20120603163526Z</td>\n",
              "      <td>\"like this if you are a tribe fan\"</td>\n",
              "      <td>like this  you are  tribe fan</td>\n",
              "      <td>[0, 0, 0, 0, 0, 0, 0, 0, 0, 0, 0, 0, 0, 0, 0, ...</td>\n",
              "      <td>[like, this, you, are, tribe, fan]</td>\n",
              "      <td>like this you are tribe fan</td>\n",
              "      <td>[0, 0, 0, 0, 0, 0, 0, 0, 0, 0, 0, 0, 0, 0, 0, ...</td>\n",
              "      <td>[0, 0, 0, 0, 0, 0, 0, 0, 0, 0, 0, 0, 0, 0, 0, ...</td>\n",
              "      <td>[0, 0, 0, 0, 0, 0, 0, 0, 0, 0, 0, 0, 0, 0, 0, ...</td>\n",
              "    </tr>\n",
              "    <tr>\n",
              "      <th>1</th>\n",
              "      <td>20120531215447Z</td>\n",
              "      <td>\"you're idiot.......................\"</td>\n",
              "      <td>you idiot</td>\n",
              "      <td>[0, 0, 0, 0, 0, 0, 0, 0, 0, 0, 0, 0, 0, 0, 0, ...</td>\n",
              "      <td>[you, idiot]</td>\n",
              "      <td>you idiot</td>\n",
              "      <td>[0, 0, 0, 0, 0, 0, 0, 0, 0, 0, 0, 0, 0, 0, 0, ...</td>\n",
              "      <td>[0, 0, 0, 0, 0, 0, 0, 0, 0, 0, 0, 0, 0, 0, 0, ...</td>\n",
              "      <td>[0, 0, 0, 0, 0, 0, 0, 0, 0, 0, 0, 0, 0, 0, 0, ...</td>\n",
              "    </tr>\n",
              "    <tr>\n",
              "      <th>2</th>\n",
              "      <td>20120823164228Z</td>\n",
              "      <td>\"I am a woman Babs, and the only \"war on women...</td>\n",
              "      <td>woman babs and the only war  women  see  co...</td>\n",
              "      <td>[0, 0, 0, 0, 0, 0, 0, 0, 0, 0, 0, 0, 0, 0, 0, ...</td>\n",
              "      <td>[woman, babs, and, the, only, war, woman, see,...</td>\n",
              "      <td>woman babs and the only war woman see coming f...</td>\n",
              "      <td>[0, 0, 0, 0, 0, 0, 0, 0, 0, 0, 0, 0, 0, 0, 1, ...</td>\n",
              "      <td>[0, 0, 0, 0, 0, 0, 0, 0, 0, 0, 0, 0, 0, 0, 0, ...</td>\n",
              "      <td>[0, 0, 0, 0, 0, 0, 0, 0, 0, 0, 0, 0, 0, 0, 0, ...</td>\n",
              "    </tr>\n",
              "    <tr>\n",
              "      <th>3</th>\n",
              "      <td>20120826010752Z</td>\n",
              "      <td>\"WOW &amp; YOU BENEFITTED SO MANY WINS THIS YEAR F...</td>\n",
              "      <td>wow  you benefitted  many wins this year from ...</td>\n",
              "      <td>[0, 0, 0, 0, 0, 0, 0, 0, 0, 0, 0, 0, 0, 0, 0, ...</td>\n",
              "      <td>[wow, you, benefitted, many, win, this, year, ...</td>\n",
              "      <td>wow you benefitted many win this year from his...</td>\n",
              "      <td>[0, 0, 0, 0, 0, 0, 0, 0, 0, 0, 0, 0, 0, 0, 0, ...</td>\n",
              "      <td>[0, 0, 0, 0, 0, 0, 0, 0, 0, 0, 0, 0, 0, 0, 0, ...</td>\n",
              "      <td>[0, 0, 0, 0, 0, 0, 0, 0, 0, 0, 0, 0, 0, 0, 0, ...</td>\n",
              "    </tr>\n",
              "    <tr>\n",
              "      <th>4</th>\n",
              "      <td>20120602223825Z</td>\n",
              "      <td>\"haha green me red you now loser whos winning ...</td>\n",
              "      <td>haha green  red you now loser whos winning now...</td>\n",
              "      <td>[0, 0, 0, 0, 0, 0, 0, 0, 0, 0, 0, 0, 0, 0, 0, ...</td>\n",
              "      <td>[haha, green, red, you, now, loser, who, winni...</td>\n",
              "      <td>haha green red you now loser who winning now m...</td>\n",
              "      <td>[0, 0, 0, 0, 0, 0, 0, 0, 0, 0, 0, 0, 0, 0, 0, ...</td>\n",
              "      <td>[0, 0, 0, 0, 0, 0, 0, 0, 0, 0, 0, 0, 0, 0, 0, ...</td>\n",
              "      <td>[0, 0, 0, 0, 0, 0, 0, 0, 0, 0, 0, 0, 0, 0, 0, ...</td>\n",
              "    </tr>\n",
              "  </tbody>\n",
              "</table>\n",
              "</div>"
            ],
            "text/plain": [
              "              Date  ...                                         BGWordVecs\n",
              "0  20120603163526Z  ...  [0, 0, 0, 0, 0, 0, 0, 0, 0, 0, 0, 0, 0, 0, 0, ...\n",
              "1  20120531215447Z  ...  [0, 0, 0, 0, 0, 0, 0, 0, 0, 0, 0, 0, 0, 0, 0, ...\n",
              "2  20120823164228Z  ...  [0, 0, 0, 0, 0, 0, 0, 0, 0, 0, 0, 0, 0, 0, 0, ...\n",
              "3  20120826010752Z  ...  [0, 0, 0, 0, 0, 0, 0, 0, 0, 0, 0, 0, 0, 0, 0, ...\n",
              "4  20120602223825Z  ...  [0, 0, 0, 0, 0, 0, 0, 0, 0, 0, 0, 0, 0, 0, 0, ...\n",
              "\n",
              "[5 rows x 9 columns]"
            ]
          },
          "metadata": {
            "tags": []
          },
          "execution_count": 44
        }
      ]
    },
    {
      "cell_type": "markdown",
      "metadata": {
        "id": "aOM6pnjphr5c"
      },
      "source": [
        "## Classification Accuracy & F-Measure"
      ]
    },
    {
      "cell_type": "code",
      "metadata": {
        "id": "amylUx2dhr5d",
        "colab": {
          "base_uri": "https://localhost:8080/",
          "height": 235
        },
        "outputId": "48af83e1-4789-4479-f3ac-8dc7b37c27df"
      },
      "source": [
        "nb_df"
      ],
      "execution_count": 45,
      "outputs": [
        {
          "output_type": "execute_result",
          "data": {
            "text/html": [
              "<div>\n",
              "<style scoped>\n",
              "    .dataframe tbody tr th:only-of-type {\n",
              "        vertical-align: middle;\n",
              "    }\n",
              "\n",
              "    .dataframe tbody tr th {\n",
              "        vertical-align: top;\n",
              "    }\n",
              "\n",
              "    .dataframe thead th {\n",
              "        text-align: right;\n",
              "    }\n",
              "</style>\n",
              "<table border=\"1\" class=\"dataframe\">\n",
              "  <thead>\n",
              "    <tr style=\"text-align: right;\">\n",
              "      <th></th>\n",
              "      <th>Accuracy</th>\n",
              "      <th>F1_Macro</th>\n",
              "      <th>F1_Weighted</th>\n",
              "    </tr>\n",
              "  </thead>\n",
              "  <tbody>\n",
              "    <tr>\n",
              "      <th>GNB</th>\n",
              "      <td>48.501%</td>\n",
              "      <td>41.808%</td>\n",
              "      <td>41.092%</td>\n",
              "    </tr>\n",
              "    <tr>\n",
              "      <th>MNB</th>\n",
              "      <td>62.192%</td>\n",
              "      <td>62.123%</td>\n",
              "      <td>62.064%</td>\n",
              "    </tr>\n",
              "    <tr>\n",
              "      <th>MNB-LEM</th>\n",
              "      <td>62.416%</td>\n",
              "      <td>62.309%</td>\n",
              "      <td>62.237%</td>\n",
              "    </tr>\n",
              "    <tr>\n",
              "      <th>MNB-SW</th>\n",
              "      <td>65.861%</td>\n",
              "      <td>64.253%</td>\n",
              "      <td>64.528%</td>\n",
              "    </tr>\n",
              "    <tr>\n",
              "      <th>MNB-BG</th>\n",
              "      <td>59.642%</td>\n",
              "      <td>57.750%</td>\n",
              "      <td>58.074%</td>\n",
              "    </tr>\n",
              "    <tr>\n",
              "      <th>MNB-LS</th>\n",
              "      <td>62.506%</td>\n",
              "      <td>62.446%</td>\n",
              "      <td>62.392%</td>\n",
              "    </tr>\n",
              "  </tbody>\n",
              "</table>\n",
              "</div>"
            ],
            "text/plain": [
              "        Accuracy F1_Macro F1_Weighted\n",
              "GNB      48.501%  41.808%     41.092%\n",
              "MNB      62.192%  62.123%     62.064%\n",
              "MNB-LEM  62.416%  62.309%     62.237%\n",
              "MNB-SW   65.861%  64.253%     64.528%\n",
              "MNB-BG   59.642%  57.750%     58.074%\n",
              "MNB-LS   62.506%  62.446%     62.392%"
            ]
          },
          "metadata": {
            "tags": []
          },
          "execution_count": 45
        }
      ]
    },
    {
      "cell_type": "markdown",
      "metadata": {
        "id": "YMzWlURGhr5d"
      },
      "source": [
        "## Part of Speech "
      ]
    },
    {
      "cell_type": "code",
      "metadata": {
        "colab": {
          "base_uri": "https://localhost:8080/"
        },
        "id": "yM7VnJhGHKf6",
        "outputId": "a2e09e26-900a-482e-dad1-de1ea87632ca"
      },
      "source": [
        "nltk.download('averaged_perceptron_tagger')"
      ],
      "execution_count": 48,
      "outputs": [
        {
          "output_type": "stream",
          "text": [
            "[nltk_data] Downloading package averaged_perceptron_tagger to\n",
            "[nltk_data]     /root/nltk_data...\n",
            "[nltk_data]   Unzipping taggers/averaged_perceptron_tagger.zip.\n"
          ],
          "name": "stdout"
        },
        {
          "output_type": "execute_result",
          "data": {
            "text/plain": [
              "True"
            ]
          },
          "metadata": {
            "tags": []
          },
          "execution_count": 48
        }
      ]
    },
    {
      "cell_type": "code",
      "metadata": {
        "id": "bfkQHRQjhr5d"
      },
      "source": [
        "from nltk import pos_tag\n",
        "\n",
        "#function that returns a list [fractionNouns, fractionVerbs, fractionAdverbs, fractionAdjectives] for every comment\n",
        "def posFractions(df):\n",
        "    pos_tags = []\n",
        "\n",
        "    for index, row in df.iterrows(): #repeat for every row in dataframe\n",
        "        nounCount, verbCount, adverbCount, adjectiveCount = (0,0,0,0) #counter for each part of speech\n",
        "        \n",
        "        tokens = df.loc[index,'Tokens'] #get 'Tokens' column from dataframe\n",
        "        pos_tokens = pos_tag(tokens) #find what part of speech is every token\n",
        "\n",
        "        #increase counter by 1 for the correct part of speech\n",
        "        for item in pos_tokens:\n",
        "            if item[1] == 'NN' or item[1] == 'NNP':\n",
        "                nounCount+=1\n",
        "            if item[1] == 'VB' or item[1] == 'VBD' or item[1] == 'VBG' or item[1] == 'VBN':\n",
        "                verbCount+=1\n",
        "            if item[1] == 'RB' or item[1] == 'RBR' or item[1] == 'RBS':\n",
        "                adverbCount+=1\n",
        "            if item[1] == item[1] == 'JJ' or item[1] == 'JJR' or item[1] == 'JJS':\n",
        "                adjectiveCount+=1\n",
        "        \n",
        "        #create zero list if there aren't any tokens\n",
        "        if len(tokens) == 0:\n",
        "            posList = [0.0, 0.0, 0.0, 0.0]\n",
        "            pos_tags.append(posList)\n",
        "            continue\n",
        "\n",
        "        #create the fraction for every part of speech\n",
        "        fracNoun = nounCount / len(tokens)\n",
        "        fracVerb = verbCount / len(tokens)\n",
        "        fracAdverb = adverbCount / len(tokens)\n",
        "        fracAdjective = adjectiveCount / len(tokens)\n",
        "        \n",
        "        #create the part of speech final list\n",
        "        posList = [round(fracNoun,3), round(fracVerb,3), round(fracAdverb,3), round(fracAdjective,3)]\n",
        "        pos_tags.append(posList)\n",
        "        \n",
        "    return pos_tags"
      ],
      "execution_count": 49,
      "outputs": []
    },
    {
      "cell_type": "code",
      "metadata": {
        "id": "eNSswKH-hr5d"
      },
      "source": [
        "#create a column in train and test sets with comments' pos list  \n",
        "train['pos'] = posFractions(train)\n",
        "test['pos'] = posFractions(test)"
      ],
      "execution_count": 50,
      "outputs": []
    },
    {
      "cell_type": "markdown",
      "metadata": {
        "id": "R-BT6kLdhr5e"
      },
      "source": [
        "##### Display some samples of our data after 'pos' column insertion"
      ]
    },
    {
      "cell_type": "code",
      "metadata": {
        "id": "SVzXkcx0hr5e",
        "colab": {
          "base_uri": "https://localhost:8080/",
          "height": 459
        },
        "outputId": "1ef8c422-6c3b-4711-a945-176e4263cc51"
      },
      "source": [
        "train.head()"
      ],
      "execution_count": 51,
      "outputs": [
        {
          "output_type": "execute_result",
          "data": {
            "text/html": [
              "<div>\n",
              "<style scoped>\n",
              "    .dataframe tbody tr th:only-of-type {\n",
              "        vertical-align: middle;\n",
              "    }\n",
              "\n",
              "    .dataframe tbody tr th {\n",
              "        vertical-align: top;\n",
              "    }\n",
              "\n",
              "    .dataframe thead th {\n",
              "        text-align: right;\n",
              "    }\n",
              "</style>\n",
              "<table border=\"1\" class=\"dataframe\">\n",
              "  <thead>\n",
              "    <tr style=\"text-align: right;\">\n",
              "      <th></th>\n",
              "      <th>Insult</th>\n",
              "      <th>Date</th>\n",
              "      <th>Comment</th>\n",
              "      <th>ProcessedComment</th>\n",
              "      <th>WordVecs</th>\n",
              "      <th>Tokens</th>\n",
              "      <th>LemComment</th>\n",
              "      <th>LemWordVecs</th>\n",
              "      <th>SWordVecs</th>\n",
              "      <th>BGWordVecs</th>\n",
              "      <th>pos</th>\n",
              "    </tr>\n",
              "  </thead>\n",
              "  <tbody>\n",
              "    <tr>\n",
              "      <th>0</th>\n",
              "      <td>1</td>\n",
              "      <td>20120618192155Z</td>\n",
              "      <td>\"You fuck your dad.\"</td>\n",
              "      <td>you fuck your dad</td>\n",
              "      <td>[0, 0, 0, 0, 0, 0, 0, 0, 0, 0, 0, 0, 0, 0, 0, ...</td>\n",
              "      <td>[you, fuck, your, dad]</td>\n",
              "      <td>you fuck your dad</td>\n",
              "      <td>[0, 0, 0, 0, 0, 0, 0, 0, 0, 0, 0, 0, 0, 0, 0, ...</td>\n",
              "      <td>[0, 0, 0, 0, 0, 0, 0, 0, 0, 0, 0, 0, 0, 0, 0, ...</td>\n",
              "      <td>[0, 0, 0, 0, 0, 0, 0, 0, 0, 0, 0, 0, 0, 0, 0, ...</td>\n",
              "      <td>[0.25, 0.0, 0.0, 0.0]</td>\n",
              "    </tr>\n",
              "    <tr>\n",
              "      <th>1</th>\n",
              "      <td>0</td>\n",
              "      <td>20120528192215Z</td>\n",
              "      <td>\"i really don't understand your point.\\xa0 It ...</td>\n",
              "      <td>really don understand your point  seems that ...</td>\n",
              "      <td>[0, 0, 0, 0, 0, 0, 0, 0, 0, 0, 0, 0, 0, 0, 0, ...</td>\n",
              "      <td>[really, don, understand, your, point, seems, ...</td>\n",
              "      <td>really don understand your point seems that yo...</td>\n",
              "      <td>[0, 0, 0, 0, 0, 0, 0, 0, 0, 0, 0, 0, 0, 0, 1, ...</td>\n",
              "      <td>[0, 0, 0, 0, 0, 0, 0, 0, 0, 0, 0, 0, 0, 0, 0, ...</td>\n",
              "      <td>[0, 0, 0, 0, 0, 0, 0, 0, 0, 0, 0, 0, 0, 0, 0, ...</td>\n",
              "      <td>[0.231, 0.154, 0.077, 0.077]</td>\n",
              "    </tr>\n",
              "    <tr>\n",
              "      <th>2</th>\n",
              "      <td>0</td>\n",
              "      <td>00000000000000Z</td>\n",
              "      <td>\"A\\\\xc2\\\\xa0majority of Canadians can and has ...</td>\n",
              "      <td>canadians can and has been wrong before now ...</td>\n",
              "      <td>[0, 0, 0, 0, 1, 0, 0, 0, 0, 0, 0, 1, 0, 0, 0, ...</td>\n",
              "      <td>[canadian, can, and, ha, been, wrong, before, ...</td>\n",
              "      <td>canadian can and ha been wrong before now and ...</td>\n",
              "      <td>[0, 0, 0, 0, 1, 0, 0, 0, 0, 0, 0, 1, 0, 0, 5, ...</td>\n",
              "      <td>[0, 0, 0, 0, 0, 0, 0, 0, 0, 0, 0, 0, 0, 0, 0, ...</td>\n",
              "      <td>[0, 0, 0, 0, 0, 0, 0, 0, 0, 0, 0, 0, 0, 0, 0, ...</td>\n",
              "      <td>[0.26, 0.08, 0.12, 0.06]</td>\n",
              "    </tr>\n",
              "    <tr>\n",
              "      <th>3</th>\n",
              "      <td>0</td>\n",
              "      <td>00000000000000Z</td>\n",
              "      <td>\"listen if you dont wanna get married to a man...</td>\n",
              "      <td>listen  you dont wanna get married   man   wom...</td>\n",
              "      <td>[0, 0, 0, 0, 0, 0, 0, 0, 0, 0, 0, 0, 0, 0, 0, ...</td>\n",
              "      <td>[listen, you, dont, wanna, get, married, man, ...</td>\n",
              "      <td>listen you dont wanna get married man woman do...</td>\n",
              "      <td>[0, 0, 0, 0, 0, 0, 0, 0, 0, 0, 0, 0, 0, 0, 1, ...</td>\n",
              "      <td>[0, 0, 0, 0, 0, 0, 0, 0, 0, 0, 0, 0, 0, 0, 0, ...</td>\n",
              "      <td>[0, 0, 0, 0, 0, 0, 0, 0, 0, 0, 0, 0, 0, 0, 0, ...</td>\n",
              "      <td>[0.146, 0.146, 0.024, 0.171]</td>\n",
              "    </tr>\n",
              "    <tr>\n",
              "      <th>4</th>\n",
              "      <td>0</td>\n",
              "      <td>20120619094753Z</td>\n",
              "      <td>\"C\\xe1c b\\u1ea1n xu\\u1ed1ng \\u0111\\u01b0\\u1edd...</td>\n",
              "      <td>chi             giang       ...</td>\n",
              "      <td>[0, 0, 0, 0, 0, 0, 0, 0, 0, 0, 0, 0, 0, 0, 0, ...</td>\n",
              "      <td>[chi, giang, chu, khi, sau, chi, tranh, con]</td>\n",
              "      <td>chi giang chu khi sau chi tranh con</td>\n",
              "      <td>[0, 0, 0, 0, 0, 0, 0, 0, 0, 0, 0, 0, 0, 0, 0, ...</td>\n",
              "      <td>[0, 0, 0, 0, 0, 0, 0, 0, 0, 0, 0, 0, 0, 0, 0, ...</td>\n",
              "      <td>[0, 0, 0, 0, 0, 0, 0, 0, 0, 0, 0, 0, 0, 0, 0, ...</td>\n",
              "      <td>[0.625, 0.0, 0.0, 0.125]</td>\n",
              "    </tr>\n",
              "  </tbody>\n",
              "</table>\n",
              "</div>"
            ],
            "text/plain": [
              "   Insult  ...                           pos\n",
              "0       1  ...         [0.25, 0.0, 0.0, 0.0]\n",
              "1       0  ...  [0.231, 0.154, 0.077, 0.077]\n",
              "2       0  ...      [0.26, 0.08, 0.12, 0.06]\n",
              "3       0  ...  [0.146, 0.146, 0.024, 0.171]\n",
              "4       0  ...      [0.625, 0.0, 0.0, 0.125]\n",
              "\n",
              "[5 rows x 11 columns]"
            ]
          },
          "metadata": {
            "tags": []
          },
          "execution_count": 51
        }
      ]
    },
    {
      "cell_type": "code",
      "metadata": {
        "id": "Ep7bR0N0hr5e",
        "colab": {
          "base_uri": "https://localhost:8080/",
          "height": 408
        },
        "outputId": "0b35772a-bc7a-4668-a18a-745f35658654"
      },
      "source": [
        "test.head()"
      ],
      "execution_count": 52,
      "outputs": [
        {
          "output_type": "execute_result",
          "data": {
            "text/html": [
              "<div>\n",
              "<style scoped>\n",
              "    .dataframe tbody tr th:only-of-type {\n",
              "        vertical-align: middle;\n",
              "    }\n",
              "\n",
              "    .dataframe tbody tr th {\n",
              "        vertical-align: top;\n",
              "    }\n",
              "\n",
              "    .dataframe thead th {\n",
              "        text-align: right;\n",
              "    }\n",
              "</style>\n",
              "<table border=\"1\" class=\"dataframe\">\n",
              "  <thead>\n",
              "    <tr style=\"text-align: right;\">\n",
              "      <th></th>\n",
              "      <th>Date</th>\n",
              "      <th>Comment</th>\n",
              "      <th>ProcessedComment</th>\n",
              "      <th>WordVecs</th>\n",
              "      <th>Tokens</th>\n",
              "      <th>LemComment</th>\n",
              "      <th>LemWordVecs</th>\n",
              "      <th>SWordVecs</th>\n",
              "      <th>BGWordVecs</th>\n",
              "      <th>pos</th>\n",
              "    </tr>\n",
              "  </thead>\n",
              "  <tbody>\n",
              "    <tr>\n",
              "      <th>0</th>\n",
              "      <td>20120603163526Z</td>\n",
              "      <td>\"like this if you are a tribe fan\"</td>\n",
              "      <td>like this  you are  tribe fan</td>\n",
              "      <td>[0, 0, 0, 0, 0, 0, 0, 0, 0, 0, 0, 0, 0, 0, 0, ...</td>\n",
              "      <td>[like, this, you, are, tribe, fan]</td>\n",
              "      <td>like this you are tribe fan</td>\n",
              "      <td>[0, 0, 0, 0, 0, 0, 0, 0, 0, 0, 0, 0, 0, 0, 0, ...</td>\n",
              "      <td>[0, 0, 0, 0, 0, 0, 0, 0, 0, 0, 0, 0, 0, 0, 0, ...</td>\n",
              "      <td>[0, 0, 0, 0, 0, 0, 0, 0, 0, 0, 0, 0, 0, 0, 0, ...</td>\n",
              "      <td>[0.167, 0.0, 0.0, 0.167]</td>\n",
              "    </tr>\n",
              "    <tr>\n",
              "      <th>1</th>\n",
              "      <td>20120531215447Z</td>\n",
              "      <td>\"you're idiot.......................\"</td>\n",
              "      <td>you idiot</td>\n",
              "      <td>[0, 0, 0, 0, 0, 0, 0, 0, 0, 0, 0, 0, 0, 0, 0, ...</td>\n",
              "      <td>[you, idiot]</td>\n",
              "      <td>you idiot</td>\n",
              "      <td>[0, 0, 0, 0, 0, 0, 0, 0, 0, 0, 0, 0, 0, 0, 0, ...</td>\n",
              "      <td>[0, 0, 0, 0, 0, 0, 0, 0, 0, 0, 0, 0, 0, 0, 0, ...</td>\n",
              "      <td>[0, 0, 0, 0, 0, 0, 0, 0, 0, 0, 0, 0, 0, 0, 0, ...</td>\n",
              "      <td>[0.0, 0.0, 0.0, 0.0]</td>\n",
              "    </tr>\n",
              "    <tr>\n",
              "      <th>2</th>\n",
              "      <td>20120823164228Z</td>\n",
              "      <td>\"I am a woman Babs, and the only \"war on women...</td>\n",
              "      <td>woman babs and the only war  women  see  co...</td>\n",
              "      <td>[0, 0, 0, 0, 0, 0, 0, 0, 0, 0, 0, 0, 0, 0, 0, ...</td>\n",
              "      <td>[woman, babs, and, the, only, war, woman, see,...</td>\n",
              "      <td>woman babs and the only war woman see coming f...</td>\n",
              "      <td>[0, 0, 0, 0, 0, 0, 0, 0, 0, 0, 0, 0, 0, 0, 1, ...</td>\n",
              "      <td>[0, 0, 0, 0, 0, 0, 0, 0, 0, 0, 0, 0, 0, 0, 0, ...</td>\n",
              "      <td>[0, 0, 0, 0, 0, 0, 0, 0, 0, 0, 0, 0, 0, 0, 0, ...</td>\n",
              "      <td>[0.292, 0.167, 0.0, 0.125]</td>\n",
              "    </tr>\n",
              "    <tr>\n",
              "      <th>3</th>\n",
              "      <td>20120826010752Z</td>\n",
              "      <td>\"WOW &amp; YOU BENEFITTED SO MANY WINS THIS YEAR F...</td>\n",
              "      <td>wow  you benefitted  many wins this year from ...</td>\n",
              "      <td>[0, 0, 0, 0, 0, 0, 0, 0, 0, 0, 0, 0, 0, 0, 0, ...</td>\n",
              "      <td>[wow, you, benefitted, many, win, this, year, ...</td>\n",
              "      <td>wow you benefitted many win this year from his...</td>\n",
              "      <td>[0, 0, 0, 0, 0, 0, 0, 0, 0, 0, 0, 0, 0, 0, 0, ...</td>\n",
              "      <td>[0, 0, 0, 0, 0, 0, 0, 0, 0, 0, 0, 0, 0, 0, 0, ...</td>\n",
              "      <td>[0, 0, 0, 0, 0, 0, 0, 0, 0, 0, 0, 0, 0, 0, 0, ...</td>\n",
              "      <td>[0.417, 0.083, 0.0, 0.167]</td>\n",
              "    </tr>\n",
              "    <tr>\n",
              "      <th>4</th>\n",
              "      <td>20120602223825Z</td>\n",
              "      <td>\"haha green me red you now loser whos winning ...</td>\n",
              "      <td>haha green  red you now loser whos winning now...</td>\n",
              "      <td>[0, 0, 0, 0, 0, 0, 0, 0, 0, 0, 0, 0, 0, 0, 0, ...</td>\n",
              "      <td>[haha, green, red, you, now, loser, who, winni...</td>\n",
              "      <td>haha green red you now loser who winning now m...</td>\n",
              "      <td>[0, 0, 0, 0, 0, 0, 0, 0, 0, 0, 0, 0, 0, 0, 0, ...</td>\n",
              "      <td>[0, 0, 0, 0, 0, 0, 0, 0, 0, 0, 0, 0, 0, 0, 0, ...</td>\n",
              "      <td>[0, 0, 0, 0, 0, 0, 0, 0, 0, 0, 0, 0, 0, 0, 0, ...</td>\n",
              "      <td>[0.2, 0.1, 0.2, 0.2]</td>\n",
              "    </tr>\n",
              "  </tbody>\n",
              "</table>\n",
              "</div>"
            ],
            "text/plain": [
              "              Date  ...                         pos\n",
              "0  20120603163526Z  ...    [0.167, 0.0, 0.0, 0.167]\n",
              "1  20120531215447Z  ...        [0.0, 0.0, 0.0, 0.0]\n",
              "2  20120823164228Z  ...  [0.292, 0.167, 0.0, 0.125]\n",
              "3  20120826010752Z  ...  [0.417, 0.083, 0.0, 0.167]\n",
              "4  20120602223825Z  ...        [0.2, 0.1, 0.2, 0.2]\n",
              "\n",
              "[5 rows x 10 columns]"
            ]
          },
          "metadata": {
            "tags": []
          },
          "execution_count": 52
        }
      ]
    },
    {
      "cell_type": "code",
      "metadata": {
        "id": "WyS8WN61hr5e"
      },
      "source": [
        "#create numpy arrays containing part of speech lists\n",
        "train_pos = np.asarray(train['pos'].tolist())\n",
        "test_pos = np.asarray(test['pos'].tolist())"
      ],
      "execution_count": 53,
      "outputs": []
    },
    {
      "cell_type": "markdown",
      "metadata": {
        "id": "D5hOvCmghr5f"
      },
      "source": [
        "## Tf-Idf "
      ]
    },
    {
      "cell_type": "code",
      "metadata": {
        "id": "IJTkP8xghr5f"
      },
      "source": [
        "from sklearn.feature_extraction.text import TfidfVectorizer\n",
        "\n",
        "#apply tfidf transformation to comments (unigrams & bigrams, lemmatized, stopwords removed)\n",
        "tfidfVectorizer = TfidfVectorizer(max_df=0.99, min_df=1, max_features=400, stop_words='english', \n",
        "                                      ngram_range=(1,2), analyzer='word')"
      ],
      "execution_count": 54,
      "outputs": []
    },
    {
      "cell_type": "code",
      "metadata": {
        "id": "1xlBqOeghr5f"
      },
      "source": [
        "tfidf = tfidfVectorizer.fit_transform(train['LemComment'])\n",
        "\n",
        "vectors = []\n",
        "for v in tfidf.toarray():\n",
        "    vectors.append(v)\n",
        "\n",
        "#create a column in train set with comments' words tf-idf counts transformation\n",
        "train['tf-idf'] = pd.Series(vectors,index=train.index)\n",
        "\n",
        "tfidf1 = tfidfVectorizer.transform(test['LemComment'])\n",
        "\n",
        "vectors1 = []\n",
        "for v in tfidf1.toarray():\n",
        "    vectors1.append(v)\n",
        "\n",
        "#create a column in test set with comments' words tf-idf counts transformation\n",
        "test['tf-idf'] = pd.Series(vectors1,index=test.index)"
      ],
      "execution_count": 55,
      "outputs": []
    },
    {
      "cell_type": "markdown",
      "metadata": {
        "id": "URU_fow6hr5f"
      },
      "source": [
        "##### Display some samples of our data after 'tf-idf' column insertion"
      ]
    },
    {
      "cell_type": "code",
      "metadata": {
        "id": "H9guVefAhr5f",
        "colab": {
          "base_uri": "https://localhost:8080/",
          "height": 544
        },
        "outputId": "2a360f20-ca0c-428b-a7bd-c56366d43aaa"
      },
      "source": [
        "train.head()"
      ],
      "execution_count": 56,
      "outputs": [
        {
          "output_type": "execute_result",
          "data": {
            "text/html": [
              "<div>\n",
              "<style scoped>\n",
              "    .dataframe tbody tr th:only-of-type {\n",
              "        vertical-align: middle;\n",
              "    }\n",
              "\n",
              "    .dataframe tbody tr th {\n",
              "        vertical-align: top;\n",
              "    }\n",
              "\n",
              "    .dataframe thead th {\n",
              "        text-align: right;\n",
              "    }\n",
              "</style>\n",
              "<table border=\"1\" class=\"dataframe\">\n",
              "  <thead>\n",
              "    <tr style=\"text-align: right;\">\n",
              "      <th></th>\n",
              "      <th>Insult</th>\n",
              "      <th>Date</th>\n",
              "      <th>Comment</th>\n",
              "      <th>ProcessedComment</th>\n",
              "      <th>WordVecs</th>\n",
              "      <th>Tokens</th>\n",
              "      <th>LemComment</th>\n",
              "      <th>LemWordVecs</th>\n",
              "      <th>SWordVecs</th>\n",
              "      <th>BGWordVecs</th>\n",
              "      <th>pos</th>\n",
              "      <th>tf-idf</th>\n",
              "    </tr>\n",
              "  </thead>\n",
              "  <tbody>\n",
              "    <tr>\n",
              "      <th>0</th>\n",
              "      <td>1</td>\n",
              "      <td>20120618192155Z</td>\n",
              "      <td>\"You fuck your dad.\"</td>\n",
              "      <td>you fuck your dad</td>\n",
              "      <td>[0, 0, 0, 0, 0, 0, 0, 0, 0, 0, 0, 0, 0, 0, 0, ...</td>\n",
              "      <td>[you, fuck, your, dad]</td>\n",
              "      <td>you fuck your dad</td>\n",
              "      <td>[0, 0, 0, 0, 0, 0, 0, 0, 0, 0, 0, 0, 0, 0, 0, ...</td>\n",
              "      <td>[0, 0, 0, 0, 0, 0, 0, 0, 0, 0, 0, 0, 0, 0, 0, ...</td>\n",
              "      <td>[0, 0, 0, 0, 0, 0, 0, 0, 0, 0, 0, 0, 0, 0, 0, ...</td>\n",
              "      <td>[0.25, 0.0, 0.0, 0.0]</td>\n",
              "      <td>[0.0, 0.0, 0.0, 0.0, 0.0, 0.0, 0.0, 0.0, 0.0, ...</td>\n",
              "    </tr>\n",
              "    <tr>\n",
              "      <th>1</th>\n",
              "      <td>0</td>\n",
              "      <td>20120528192215Z</td>\n",
              "      <td>\"i really don't understand your point.\\xa0 It ...</td>\n",
              "      <td>really don understand your point  seems that ...</td>\n",
              "      <td>[0, 0, 0, 0, 0, 0, 0, 0, 0, 0, 0, 0, 0, 0, 0, ...</td>\n",
              "      <td>[really, don, understand, your, point, seems, ...</td>\n",
              "      <td>really don understand your point seems that yo...</td>\n",
              "      <td>[0, 0, 0, 0, 0, 0, 0, 0, 0, 0, 0, 0, 0, 0, 1, ...</td>\n",
              "      <td>[0, 0, 0, 0, 0, 0, 0, 0, 0, 0, 0, 0, 0, 0, 0, ...</td>\n",
              "      <td>[0, 0, 0, 0, 0, 0, 0, 0, 0, 0, 0, 0, 0, 0, 0, ...</td>\n",
              "      <td>[0.231, 0.154, 0.077, 0.077]</td>\n",
              "      <td>[0.0, 0.0, 0.0, 0.0, 0.0, 0.0, 0.0, 0.0, 0.0, ...</td>\n",
              "    </tr>\n",
              "    <tr>\n",
              "      <th>2</th>\n",
              "      <td>0</td>\n",
              "      <td>00000000000000Z</td>\n",
              "      <td>\"A\\\\xc2\\\\xa0majority of Canadians can and has ...</td>\n",
              "      <td>canadians can and has been wrong before now ...</td>\n",
              "      <td>[0, 0, 0, 0, 1, 0, 0, 0, 0, 0, 0, 1, 0, 0, 0, ...</td>\n",
              "      <td>[canadian, can, and, ha, been, wrong, before, ...</td>\n",
              "      <td>canadian can and ha been wrong before now and ...</td>\n",
              "      <td>[0, 0, 0, 0, 1, 0, 0, 0, 0, 0, 0, 1, 0, 0, 5, ...</td>\n",
              "      <td>[0, 0, 0, 0, 0, 0, 0, 0, 0, 0, 0, 0, 0, 0, 0, ...</td>\n",
              "      <td>[0, 0, 0, 0, 0, 0, 0, 0, 0, 0, 0, 0, 0, 0, 0, ...</td>\n",
              "      <td>[0.26, 0.08, 0.12, 0.06]</td>\n",
              "      <td>[0.0, 0.0, 0.0, 0.0, 0.0, 0.0, 0.0, 0.0, 0.0, ...</td>\n",
              "    </tr>\n",
              "    <tr>\n",
              "      <th>3</th>\n",
              "      <td>0</td>\n",
              "      <td>00000000000000Z</td>\n",
              "      <td>\"listen if you dont wanna get married to a man...</td>\n",
              "      <td>listen  you dont wanna get married   man   wom...</td>\n",
              "      <td>[0, 0, 0, 0, 0, 0, 0, 0, 0, 0, 0, 0, 0, 0, 0, ...</td>\n",
              "      <td>[listen, you, dont, wanna, get, married, man, ...</td>\n",
              "      <td>listen you dont wanna get married man woman do...</td>\n",
              "      <td>[0, 0, 0, 0, 0, 0, 0, 0, 0, 0, 0, 0, 0, 0, 1, ...</td>\n",
              "      <td>[0, 0, 0, 0, 0, 0, 0, 0, 0, 0, 0, 0, 0, 0, 0, ...</td>\n",
              "      <td>[0, 0, 0, 0, 0, 0, 0, 0, 0, 0, 0, 0, 0, 0, 0, ...</td>\n",
              "      <td>[0.146, 0.146, 0.024, 0.171]</td>\n",
              "      <td>[0.0, 0.0, 0.0, 0.0, 0.0, 0.0, 0.0, 0.0, 0.0, ...</td>\n",
              "    </tr>\n",
              "    <tr>\n",
              "      <th>4</th>\n",
              "      <td>0</td>\n",
              "      <td>20120619094753Z</td>\n",
              "      <td>\"C\\xe1c b\\u1ea1n xu\\u1ed1ng \\u0111\\u01b0\\u1edd...</td>\n",
              "      <td>chi             giang       ...</td>\n",
              "      <td>[0, 0, 0, 0, 0, 0, 0, 0, 0, 0, 0, 0, 0, 0, 0, ...</td>\n",
              "      <td>[chi, giang, chu, khi, sau, chi, tranh, con]</td>\n",
              "      <td>chi giang chu khi sau chi tranh con</td>\n",
              "      <td>[0, 0, 0, 0, 0, 0, 0, 0, 0, 0, 0, 0, 0, 0, 0, ...</td>\n",
              "      <td>[0, 0, 0, 0, 0, 0, 0, 0, 0, 0, 0, 0, 0, 0, 0, ...</td>\n",
              "      <td>[0, 0, 0, 0, 0, 0, 0, 0, 0, 0, 0, 0, 0, 0, 0, ...</td>\n",
              "      <td>[0.625, 0.0, 0.0, 0.125]</td>\n",
              "      <td>[0.0, 0.0, 0.0, 0.0, 0.0, 0.0, 0.0, 0.0, 0.0, ...</td>\n",
              "    </tr>\n",
              "  </tbody>\n",
              "</table>\n",
              "</div>"
            ],
            "text/plain": [
              "   Insult  ...                                             tf-idf\n",
              "0       1  ...  [0.0, 0.0, 0.0, 0.0, 0.0, 0.0, 0.0, 0.0, 0.0, ...\n",
              "1       0  ...  [0.0, 0.0, 0.0, 0.0, 0.0, 0.0, 0.0, 0.0, 0.0, ...\n",
              "2       0  ...  [0.0, 0.0, 0.0, 0.0, 0.0, 0.0, 0.0, 0.0, 0.0, ...\n",
              "3       0  ...  [0.0, 0.0, 0.0, 0.0, 0.0, 0.0, 0.0, 0.0, 0.0, ...\n",
              "4       0  ...  [0.0, 0.0, 0.0, 0.0, 0.0, 0.0, 0.0, 0.0, 0.0, ...\n",
              "\n",
              "[5 rows x 12 columns]"
            ]
          },
          "metadata": {
            "tags": []
          },
          "execution_count": 56
        }
      ]
    },
    {
      "cell_type": "code",
      "metadata": {
        "id": "XdDacd3yhr5g",
        "colab": {
          "base_uri": "https://localhost:8080/",
          "height": 459
        },
        "outputId": "a96801bf-f450-4e1c-e645-499b6659e280"
      },
      "source": [
        "test.head()"
      ],
      "execution_count": 57,
      "outputs": [
        {
          "output_type": "execute_result",
          "data": {
            "text/html": [
              "<div>\n",
              "<style scoped>\n",
              "    .dataframe tbody tr th:only-of-type {\n",
              "        vertical-align: middle;\n",
              "    }\n",
              "\n",
              "    .dataframe tbody tr th {\n",
              "        vertical-align: top;\n",
              "    }\n",
              "\n",
              "    .dataframe thead th {\n",
              "        text-align: right;\n",
              "    }\n",
              "</style>\n",
              "<table border=\"1\" class=\"dataframe\">\n",
              "  <thead>\n",
              "    <tr style=\"text-align: right;\">\n",
              "      <th></th>\n",
              "      <th>Date</th>\n",
              "      <th>Comment</th>\n",
              "      <th>ProcessedComment</th>\n",
              "      <th>WordVecs</th>\n",
              "      <th>Tokens</th>\n",
              "      <th>LemComment</th>\n",
              "      <th>LemWordVecs</th>\n",
              "      <th>SWordVecs</th>\n",
              "      <th>BGWordVecs</th>\n",
              "      <th>pos</th>\n",
              "      <th>tf-idf</th>\n",
              "    </tr>\n",
              "  </thead>\n",
              "  <tbody>\n",
              "    <tr>\n",
              "      <th>0</th>\n",
              "      <td>20120603163526Z</td>\n",
              "      <td>\"like this if you are a tribe fan\"</td>\n",
              "      <td>like this  you are  tribe fan</td>\n",
              "      <td>[0, 0, 0, 0, 0, 0, 0, 0, 0, 0, 0, 0, 0, 0, 0, ...</td>\n",
              "      <td>[like, this, you, are, tribe, fan]</td>\n",
              "      <td>like this you are tribe fan</td>\n",
              "      <td>[0, 0, 0, 0, 0, 0, 0, 0, 0, 0, 0, 0, 0, 0, 0, ...</td>\n",
              "      <td>[0, 0, 0, 0, 0, 0, 0, 0, 0, 0, 0, 0, 0, 0, 0, ...</td>\n",
              "      <td>[0, 0, 0, 0, 0, 0, 0, 0, 0, 0, 0, 0, 0, 0, 0, ...</td>\n",
              "      <td>[0.167, 0.0, 0.0, 0.167]</td>\n",
              "      <td>[0.0, 0.0, 0.0, 0.0, 0.0, 0.0, 0.0, 0.0, 0.0, ...</td>\n",
              "    </tr>\n",
              "    <tr>\n",
              "      <th>1</th>\n",
              "      <td>20120531215447Z</td>\n",
              "      <td>\"you're idiot.......................\"</td>\n",
              "      <td>you idiot</td>\n",
              "      <td>[0, 0, 0, 0, 0, 0, 0, 0, 0, 0, 0, 0, 0, 0, 0, ...</td>\n",
              "      <td>[you, idiot]</td>\n",
              "      <td>you idiot</td>\n",
              "      <td>[0, 0, 0, 0, 0, 0, 0, 0, 0, 0, 0, 0, 0, 0, 0, ...</td>\n",
              "      <td>[0, 0, 0, 0, 0, 0, 0, 0, 0, 0, 0, 0, 0, 0, 0, ...</td>\n",
              "      <td>[0, 0, 0, 0, 0, 0, 0, 0, 0, 0, 0, 0, 0, 0, 0, ...</td>\n",
              "      <td>[0.0, 0.0, 0.0, 0.0]</td>\n",
              "      <td>[0.0, 0.0, 0.0, 0.0, 0.0, 0.0, 0.0, 0.0, 0.0, ...</td>\n",
              "    </tr>\n",
              "    <tr>\n",
              "      <th>2</th>\n",
              "      <td>20120823164228Z</td>\n",
              "      <td>\"I am a woman Babs, and the only \"war on women...</td>\n",
              "      <td>woman babs and the only war  women  see  co...</td>\n",
              "      <td>[0, 0, 0, 0, 0, 0, 0, 0, 0, 0, 0, 0, 0, 0, 0, ...</td>\n",
              "      <td>[woman, babs, and, the, only, war, woman, see,...</td>\n",
              "      <td>woman babs and the only war woman see coming f...</td>\n",
              "      <td>[0, 0, 0, 0, 0, 0, 0, 0, 0, 0, 0, 0, 0, 0, 1, ...</td>\n",
              "      <td>[0, 0, 0, 0, 0, 0, 0, 0, 0, 0, 0, 0, 0, 0, 0, ...</td>\n",
              "      <td>[0, 0, 0, 0, 0, 0, 0, 0, 0, 0, 0, 0, 0, 0, 0, ...</td>\n",
              "      <td>[0.292, 0.167, 0.0, 0.125]</td>\n",
              "      <td>[0.0, 0.0, 0.0, 0.0, 0.0, 0.0, 0.0, 0.0, 0.0, ...</td>\n",
              "    </tr>\n",
              "    <tr>\n",
              "      <th>3</th>\n",
              "      <td>20120826010752Z</td>\n",
              "      <td>\"WOW &amp; YOU BENEFITTED SO MANY WINS THIS YEAR F...</td>\n",
              "      <td>wow  you benefitted  many wins this year from ...</td>\n",
              "      <td>[0, 0, 0, 0, 0, 0, 0, 0, 0, 0, 0, 0, 0, 0, 0, ...</td>\n",
              "      <td>[wow, you, benefitted, many, win, this, year, ...</td>\n",
              "      <td>wow you benefitted many win this year from his...</td>\n",
              "      <td>[0, 0, 0, 0, 0, 0, 0, 0, 0, 0, 0, 0, 0, 0, 0, ...</td>\n",
              "      <td>[0, 0, 0, 0, 0, 0, 0, 0, 0, 0, 0, 0, 0, 0, 0, ...</td>\n",
              "      <td>[0, 0, 0, 0, 0, 0, 0, 0, 0, 0, 0, 0, 0, 0, 0, ...</td>\n",
              "      <td>[0.417, 0.083, 0.0, 0.167]</td>\n",
              "      <td>[0.0, 0.0, 0.0, 0.0, 0.0, 0.0, 0.0, 0.0, 0.0, ...</td>\n",
              "    </tr>\n",
              "    <tr>\n",
              "      <th>4</th>\n",
              "      <td>20120602223825Z</td>\n",
              "      <td>\"haha green me red you now loser whos winning ...</td>\n",
              "      <td>haha green  red you now loser whos winning now...</td>\n",
              "      <td>[0, 0, 0, 0, 0, 0, 0, 0, 0, 0, 0, 0, 0, 0, 0, ...</td>\n",
              "      <td>[haha, green, red, you, now, loser, who, winni...</td>\n",
              "      <td>haha green red you now loser who winning now m...</td>\n",
              "      <td>[0, 0, 0, 0, 0, 0, 0, 0, 0, 0, 0, 0, 0, 0, 0, ...</td>\n",
              "      <td>[0, 0, 0, 0, 0, 0, 0, 0, 0, 0, 0, 0, 0, 0, 0, ...</td>\n",
              "      <td>[0, 0, 0, 0, 0, 0, 0, 0, 0, 0, 0, 0, 0, 0, 0, ...</td>\n",
              "      <td>[0.2, 0.1, 0.2, 0.2]</td>\n",
              "      <td>[0.0, 0.0, 0.0, 0.0, 0.0, 0.0, 0.0, 0.0, 0.0, ...</td>\n",
              "    </tr>\n",
              "  </tbody>\n",
              "</table>\n",
              "</div>"
            ],
            "text/plain": [
              "              Date  ...                                             tf-idf\n",
              "0  20120603163526Z  ...  [0.0, 0.0, 0.0, 0.0, 0.0, 0.0, 0.0, 0.0, 0.0, ...\n",
              "1  20120531215447Z  ...  [0.0, 0.0, 0.0, 0.0, 0.0, 0.0, 0.0, 0.0, 0.0, ...\n",
              "2  20120823164228Z  ...  [0.0, 0.0, 0.0, 0.0, 0.0, 0.0, 0.0, 0.0, 0.0, ...\n",
              "3  20120826010752Z  ...  [0.0, 0.0, 0.0, 0.0, 0.0, 0.0, 0.0, 0.0, 0.0, ...\n",
              "4  20120602223825Z  ...  [0.0, 0.0, 0.0, 0.0, 0.0, 0.0, 0.0, 0.0, 0.0, ...\n",
              "\n",
              "[5 rows x 11 columns]"
            ]
          },
          "metadata": {
            "tags": []
          },
          "execution_count": 57
        }
      ]
    },
    {
      "cell_type": "code",
      "metadata": {
        "id": "CxgxGl1ohr5g"
      },
      "source": [
        "#create numpy arrays containing tf-idf vectors\n",
        "train_tfidf = np.asarray(train['tf-idf'].tolist())\n",
        "test_tfidf = np.asarray(test['tf-idf'].tolist())"
      ],
      "execution_count": 58,
      "outputs": []
    },
    {
      "cell_type": "markdown",
      "metadata": {
        "id": "SMFNbRqIhr5g"
      },
      "source": [
        "### Compound Input Features Vector"
      ]
    },
    {
      "cell_type": "code",
      "metadata": {
        "id": "ZCNWlJBBhr5g"
      },
      "source": [
        "#function that unifies two arrays into one\n",
        "def unify_features(arr1, arr2):\n",
        "    uni = []\n",
        "    #unify the i-th element of arr1 with the corresponding element of arr2\n",
        "    for i,j in enumerate(arr1):\n",
        "        arr = np.append(arr1[i], arr2[i])\n",
        "        uni.append(arr)\n",
        "        \n",
        "    return np.asarray(uni)"
      ],
      "execution_count": 59,
      "outputs": []
    },
    {
      "cell_type": "code",
      "metadata": {
        "id": "hsm-KiFihr5g"
      },
      "source": [
        "#unify part of speech and word tfidf transformation vectors into one\n",
        "train_comb1 = unify_features(train_pos, train_tfidf)\n",
        "test_comb1 = unify_features(test_pos, test_tfidf)"
      ],
      "execution_count": 60,
      "outputs": []
    },
    {
      "cell_type": "markdown",
      "metadata": {
        "id": "va0zikGxhr5h"
      },
      "source": [
        "##  Part of Speech & Tfidf Unification"
      ]
    },
    {
      "cell_type": "code",
      "metadata": {
        "id": "nQwLOJL4hr5h"
      },
      "source": [
        "#create a table to display the accuracy and F1-score of Support Vector Machines and Random Forests Classifiers\n",
        "comb_dic = {'SVM':['-','-','-'], 'RF':['-','-','-']}\n",
        "\n",
        "comb_df = pd.DataFrame.from_dict(comb_dic, orient='index', columns=['Accuracy','F1_Macro','F1_Weighted'])"
      ],
      "execution_count": 61,
      "outputs": []
    },
    {
      "cell_type": "markdown",
      "metadata": {
        "id": "ivE_npqWhr5h"
      },
      "source": [
        "### Support Vector Machines"
      ]
    },
    {
      "cell_type": "code",
      "metadata": {
        "id": "RhVrzQt4hr5h"
      },
      "source": [
        "from sklearn.svm import SVC\n",
        "\n",
        "#Support Vector Machines Linear Classifier using unified part of speech and word tfidf transformation features\n",
        "svc_comb1 = SVC(C=100, kernel='linear', gamma=0.001)\n",
        "svc_comb1.fit(train_comb1, train_y)\n",
        "y_pred_svc_comb1 = svc_comb1.predict(test_comb1) #prediction on test set\n",
        "\n",
        "comb_df.loc['SVM','Accuracy'] = \"%.3f%%\" % (metrics.accuracy_score(test_y, y_pred_svc_comb1) * 100)\n",
        "comb_df.loc['SVM','F1_Macro'] = \"%.3f%%\" % (metrics.f1_score(test_y, y_pred_svc_comb1, average='macro') * 100)\n",
        "comb_df.loc['SVM','F1_Weighted'] = \"%.3f%%\" % (metrics.f1_score(test_y, y_pred_svc_comb1, average='weighted') * 100)"
      ],
      "execution_count": 62,
      "outputs": []
    },
    {
      "cell_type": "markdown",
      "metadata": {
        "id": "kDeMeMWBhr5h"
      },
      "source": [
        "### Random Forests"
      ]
    },
    {
      "cell_type": "code",
      "metadata": {
        "id": "pT90-Lsrhr5i"
      },
      "source": [
        "from sklearn.ensemble import RandomForestClassifier\n",
        "\n",
        "#Random Forests Classifier using unified part of speech and word tfidf transformation features\n",
        "rf_comb1 = RandomForestClassifier(n_estimators=100, min_samples_split=8, min_samples_leaf=2)\n",
        "rf_comb1.fit(train_comb1, train_y)\n",
        "y_pred_rf_comb1 = rf_comb1.predict(test_comb1) #prediction on test set\n",
        "\n",
        "comb_df.loc['RF','Accuracy'] = \"%.3f%%\" % (metrics.accuracy_score(test_y, y_pred_rf_comb1) * 100)\n",
        "comb_df.loc['RF','F1_Macro'] = \"%.3f%%\" % (metrics.f1_score(test_y, y_pred_rf_comb1, average='macro') * 100)\n",
        "comb_df.loc['RF','F1_Weighted'] = \"%.3f%%\" % (metrics.f1_score(test_y, y_pred_rf_comb1, average='weighted') * 100)"
      ],
      "execution_count": 63,
      "outputs": []
    },
    {
      "cell_type": "markdown",
      "metadata": {
        "id": "QbfS1nsNhr5i"
      },
      "source": [
        "## Classification Accuracy & F-Measure"
      ]
    },
    {
      "cell_type": "code",
      "metadata": {
        "id": "cdUpILNfhr5i",
        "colab": {
          "base_uri": "https://localhost:8080/",
          "height": 111
        },
        "outputId": "a4c7c293-6615-44cc-fafc-d89a004a63b5"
      },
      "source": [
        "comb_df"
      ],
      "execution_count": 64,
      "outputs": [
        {
          "output_type": "execute_result",
          "data": {
            "text/html": [
              "<div>\n",
              "<style scoped>\n",
              "    .dataframe tbody tr th:only-of-type {\n",
              "        vertical-align: middle;\n",
              "    }\n",
              "\n",
              "    .dataframe tbody tr th {\n",
              "        vertical-align: top;\n",
              "    }\n",
              "\n",
              "    .dataframe thead th {\n",
              "        text-align: right;\n",
              "    }\n",
              "</style>\n",
              "<table border=\"1\" class=\"dataframe\">\n",
              "  <thead>\n",
              "    <tr style=\"text-align: right;\">\n",
              "      <th></th>\n",
              "      <th>Accuracy</th>\n",
              "      <th>F1_Macro</th>\n",
              "      <th>F1_Weighted</th>\n",
              "    </tr>\n",
              "  </thead>\n",
              "  <tbody>\n",
              "    <tr>\n",
              "      <th>SVM</th>\n",
              "      <td>66.309%</td>\n",
              "      <td>63.635%</td>\n",
              "      <td>63.993%</td>\n",
              "    </tr>\n",
              "    <tr>\n",
              "      <th>RF</th>\n",
              "      <td>66.130%</td>\n",
              "      <td>62.446%</td>\n",
              "      <td>62.872%</td>\n",
              "    </tr>\n",
              "  </tbody>\n",
              "</table>\n",
              "</div>"
            ],
            "text/plain": [
              "    Accuracy F1_Macro F1_Weighted\n",
              "SVM  66.309%  63.635%     63.993%\n",
              "RF   66.130%  62.446%     62.872%"
            ]
          },
          "metadata": {
            "tags": []
          },
          "execution_count": 64
        }
      ]
    },
    {
      "cell_type": "markdown",
      "metadata": {
        "id": "xNeRS5BAhr5i"
      },
      "source": [
        "##  Optimize Classification Results - Logistic Regression "
      ]
    },
    {
      "cell_type": "code",
      "metadata": {
        "id": "fF0BsyY5hr5i"
      },
      "source": [
        "#create a table to display the accuracy and F1-score of Logistic Regression Classifiers\n",
        "lr_dic = {'LR(pos_tfidf)':['-','-','-'], 'LR(best_bow)':['-','-','-']}\n",
        "\n",
        "lr_df = pd.DataFrame.from_dict(lr_dic, orient='index', columns=['Accuracy','F1_Macro','F1_Weighted'])"
      ],
      "execution_count": 65,
      "outputs": []
    },
    {
      "cell_type": "markdown",
      "metadata": {
        "id": "6D5hzSkthr5j"
      },
      "source": [
        "### Part of Speech & Tfidf Unification (Same input vector used in SVM, RF Classifiers)"
      ]
    },
    {
      "cell_type": "code",
      "metadata": {
        "id": "Q32Y4Hv2hr5j"
      },
      "source": [
        "from sklearn.linear_model import LogisticRegression\n",
        "\n",
        "#Logistic Regression Classifier using unified part of speech and word tfidf transformation features\n",
        "lr_comb1 = LogisticRegression(C=1, class_weight='balanced', solver='lbfgs')\n",
        "\n",
        "lr_comb1.fit(train_comb1, train_y)\n",
        "y_pred_lr_comb1 = lr_comb1.predict(test_comb1) #prediction on test set\n",
        "\n",
        "lr_df.loc['LR(pos_tfidf)','Accuracy'] = \"%.3f%%\" % (metrics.accuracy_score(test_y, y_pred_lr_comb1) * 100)\n",
        "lr_df.loc['LR(pos_tfidf)','F1_Macro'] = \"%.3f%%\" % (metrics.f1_score(test_y, y_pred_lr_comb1, average='macro') * 100)\n",
        "lr_df.loc['LR(pos_tfidf)','F1_Weighted'] = \"%.3f%%\" % (metrics.f1_score(test_y, y_pred_lr_comb1, average='weighted') * 100)"
      ],
      "execution_count": 66,
      "outputs": []
    },
    {
      "cell_type": "markdown",
      "metadata": {
        "id": "_UVGE-vPhr5j"
      },
      "source": [
        "### Word Counts (Best Parametres Combination)"
      ]
    },
    {
      "cell_type": "code",
      "metadata": {
        "id": "2yu9CVgjhr5j"
      },
      "source": [
        "#transorm comments to word vectors (lemmatized, unigrams & bigrams, stopwords removed)\n",
        "countVectorizer = CountVectorizer(max_df=0.99, min_df=1, max_features=400, stop_words='english', \n",
        "                                      ngram_range=(1,2), analyzer='word')"
      ],
      "execution_count": 67,
      "outputs": []
    },
    {
      "cell_type": "code",
      "metadata": {
        "id": "WHkCQ-YNhr5j"
      },
      "source": [
        "bow = countVectorizer.fit_transform(train['LemComment'])\n",
        "\n",
        "vectors = []\n",
        "for v in bow.toarray():\n",
        "    vectors.append(v)\n",
        "\n",
        "#create a column in train set with lemmatized comments' words counts   \n",
        "train['ExtWordVecs'] = pd.Series(vectors,index=train.index)\n",
        "\n",
        "#apply transformation to test set\n",
        "bow1 = countVectorizer.transform(test['LemComment'])\n",
        "\n",
        "vectors1 = []\n",
        "for v in bow1.toarray():\n",
        "    vectors1.append(v)\n",
        "\n",
        "#create a column in test set with lemmatized comments' words counts   \n",
        "test['ExtWordVecs'] = pd.Series(vectors1,index=test.index)"
      ],
      "execution_count": 68,
      "outputs": []
    },
    {
      "cell_type": "code",
      "metadata": {
        "id": "23fm4kXrhr5k"
      },
      "source": [
        "#create numpy arrays containing word counts vectors\n",
        "train_bow_ext = np.asarray(train['ExtWordVecs'].tolist())\n",
        "test_bow_ext = np.asarray(test['ExtWordVecs'].tolist())"
      ],
      "execution_count": 69,
      "outputs": []
    },
    {
      "cell_type": "code",
      "metadata": {
        "id": "qH2beXRvhr5k"
      },
      "source": [
        "#Logistic Regression Classifier using word counts features\n",
        "lr_bow_ext = LogisticRegression(C=1, class_weight='balanced', solver='lbfgs')\n",
        "\n",
        "lr_bow_ext.fit(train_bow_ext, train_y)\n",
        "y_pred_lr_bow_ext = lr_bow_ext.predict(test_bow_ext) #prediction on test set\n",
        "\n",
        "lr_df.loc['LR(best_bow)','Accuracy'] = \"%.3f%%\" % (metrics.accuracy_score(test_y, y_pred_lr_bow_ext) * 100)\n",
        "lr_df.loc['LR(best_bow)','F1_Macro'] = \"%.3f%%\" % (metrics.f1_score(test_y, y_pred_lr_bow_ext, average='macro') * 100)\n",
        "lr_df.loc['LR(best_bow)','F1_Weighted'] = \"%.3f%%\" % (metrics.f1_score(test_y, y_pred_lr_bow_ext, average='weighted') * 100)"
      ],
      "execution_count": 70,
      "outputs": []
    },
    {
      "cell_type": "markdown",
      "metadata": {
        "id": "klVuV45Thr5k"
      },
      "source": [
        "### Classification Accuracy & F-Measure"
      ]
    },
    {
      "cell_type": "code",
      "metadata": {
        "id": "qNJurFWEhr5k",
        "colab": {
          "base_uri": "https://localhost:8080/",
          "height": 111
        },
        "outputId": "50b0af15-1b3e-41e7-9bc4-5f80342856ab"
      },
      "source": [
        "lr_df"
      ],
      "execution_count": 71,
      "outputs": [
        {
          "output_type": "execute_result",
          "data": {
            "text/html": [
              "<div>\n",
              "<style scoped>\n",
              "    .dataframe tbody tr th:only-of-type {\n",
              "        vertical-align: middle;\n",
              "    }\n",
              "\n",
              "    .dataframe tbody tr th {\n",
              "        vertical-align: top;\n",
              "    }\n",
              "\n",
              "    .dataframe thead th {\n",
              "        text-align: right;\n",
              "    }\n",
              "</style>\n",
              "<table border=\"1\" class=\"dataframe\">\n",
              "  <thead>\n",
              "    <tr style=\"text-align: right;\">\n",
              "      <th></th>\n",
              "      <th>Accuracy</th>\n",
              "      <th>F1_Macro</th>\n",
              "      <th>F1_Weighted</th>\n",
              "    </tr>\n",
              "  </thead>\n",
              "  <tbody>\n",
              "    <tr>\n",
              "      <th>LR(pos_tfidf)</th>\n",
              "      <td>67.069%</td>\n",
              "      <td>66.852%</td>\n",
              "      <td>66.949%</td>\n",
              "    </tr>\n",
              "    <tr>\n",
              "      <th>LR(best_bow)</th>\n",
              "      <td>68.635%</td>\n",
              "      <td>68.044%</td>\n",
              "      <td>68.202%</td>\n",
              "    </tr>\n",
              "  </tbody>\n",
              "</table>\n",
              "</div>"
            ],
            "text/plain": [
              "              Accuracy F1_Macro F1_Weighted\n",
              "LR(pos_tfidf)  67.069%  66.852%     66.949%\n",
              "LR(best_bow)   68.635%  68.044%     68.202%"
            ]
          },
          "metadata": {
            "tags": []
          },
          "execution_count": 71
        }
      ]
    },
    {
      "cell_type": "markdown",
      "metadata": {
        "id": "BIhoeoRhhr5k"
      },
      "source": [
        "## Classifiers Final Accuracy & F-Measure Evaluation"
      ]
    },
    {
      "cell_type": "code",
      "metadata": {
        "id": "qidTIEBMhr5k"
      },
      "source": [
        "#rename dataframe indecies to distinct the Classifiers in the final dataframe\n",
        "new_nb_df = nb_df.rename(index={'GNB': 'GNB(bow)', 'MNB': 'MNB(bow)', 'MNB-LEM': 'MNB-LEM(bow)', 'MNB-SW': 'MNB-SW(bow)',\n",
        "                                   'MNB-BG': 'MNB-BG(bow)', 'MNB-LS': 'MNB-LS(bow)'})\n",
        "new_comb_df = comb_df.rename(index={'SVM': 'SVM(pos_tfidf)', 'RF': 'RF(pos_tfidf)'})"
      ],
      "execution_count": 72,
      "outputs": []
    },
    {
      "cell_type": "code",
      "metadata": {
        "id": "tF0h0wrmhr5l",
        "colab": {
          "base_uri": "https://localhost:8080/",
          "height": 359
        },
        "outputId": "05c9e654-e331-48d0-a5a0-d3dd21d2b5a2"
      },
      "source": [
        "#concatenate all dataframes' rows to create the final dataframe\n",
        "cl_df = pd.concat([new_nb_df, new_comb_df, lr_df])\n",
        "\n",
        "cl_df"
      ],
      "execution_count": 73,
      "outputs": [
        {
          "output_type": "execute_result",
          "data": {
            "text/html": [
              "<div>\n",
              "<style scoped>\n",
              "    .dataframe tbody tr th:only-of-type {\n",
              "        vertical-align: middle;\n",
              "    }\n",
              "\n",
              "    .dataframe tbody tr th {\n",
              "        vertical-align: top;\n",
              "    }\n",
              "\n",
              "    .dataframe thead th {\n",
              "        text-align: right;\n",
              "    }\n",
              "</style>\n",
              "<table border=\"1\" class=\"dataframe\">\n",
              "  <thead>\n",
              "    <tr style=\"text-align: right;\">\n",
              "      <th></th>\n",
              "      <th>Accuracy</th>\n",
              "      <th>F1_Macro</th>\n",
              "      <th>F1_Weighted</th>\n",
              "    </tr>\n",
              "  </thead>\n",
              "  <tbody>\n",
              "    <tr>\n",
              "      <th>GNB(bow)</th>\n",
              "      <td>48.501%</td>\n",
              "      <td>41.808%</td>\n",
              "      <td>41.092%</td>\n",
              "    </tr>\n",
              "    <tr>\n",
              "      <th>MNB(bow)</th>\n",
              "      <td>62.192%</td>\n",
              "      <td>62.123%</td>\n",
              "      <td>62.064%</td>\n",
              "    </tr>\n",
              "    <tr>\n",
              "      <th>MNB-LEM(bow)</th>\n",
              "      <td>62.416%</td>\n",
              "      <td>62.309%</td>\n",
              "      <td>62.237%</td>\n",
              "    </tr>\n",
              "    <tr>\n",
              "      <th>MNB-SW(bow)</th>\n",
              "      <td>65.861%</td>\n",
              "      <td>64.253%</td>\n",
              "      <td>64.528%</td>\n",
              "    </tr>\n",
              "    <tr>\n",
              "      <th>MNB-BG(bow)</th>\n",
              "      <td>59.642%</td>\n",
              "      <td>57.750%</td>\n",
              "      <td>58.074%</td>\n",
              "    </tr>\n",
              "    <tr>\n",
              "      <th>MNB-LS(bow)</th>\n",
              "      <td>62.506%</td>\n",
              "      <td>62.446%</td>\n",
              "      <td>62.392%</td>\n",
              "    </tr>\n",
              "    <tr>\n",
              "      <th>SVM(pos_tfidf)</th>\n",
              "      <td>66.309%</td>\n",
              "      <td>63.635%</td>\n",
              "      <td>63.993%</td>\n",
              "    </tr>\n",
              "    <tr>\n",
              "      <th>RF(pos_tfidf)</th>\n",
              "      <td>66.130%</td>\n",
              "      <td>62.446%</td>\n",
              "      <td>62.872%</td>\n",
              "    </tr>\n",
              "    <tr>\n",
              "      <th>LR(pos_tfidf)</th>\n",
              "      <td>67.069%</td>\n",
              "      <td>66.852%</td>\n",
              "      <td>66.949%</td>\n",
              "    </tr>\n",
              "    <tr>\n",
              "      <th>LR(best_bow)</th>\n",
              "      <td>68.635%</td>\n",
              "      <td>68.044%</td>\n",
              "      <td>68.202%</td>\n",
              "    </tr>\n",
              "  </tbody>\n",
              "</table>\n",
              "</div>"
            ],
            "text/plain": [
              "               Accuracy F1_Macro F1_Weighted\n",
              "GNB(bow)        48.501%  41.808%     41.092%\n",
              "MNB(bow)        62.192%  62.123%     62.064%\n",
              "MNB-LEM(bow)    62.416%  62.309%     62.237%\n",
              "MNB-SW(bow)     65.861%  64.253%     64.528%\n",
              "MNB-BG(bow)     59.642%  57.750%     58.074%\n",
              "MNB-LS(bow)     62.506%  62.446%     62.392%\n",
              "SVM(pos_tfidf)  66.309%  63.635%     63.993%\n",
              "RF(pos_tfidf)   66.130%  62.446%     62.872%\n",
              "LR(pos_tfidf)   67.069%  66.852%     66.949%\n",
              "LR(best_bow)    68.635%  68.044%     68.202%"
            ]
          },
          "metadata": {
            "tags": []
          },
          "execution_count": 73
        }
      ]
    },
    {
      "cell_type": "markdown",
      "metadata": {
        "id": "ggsw75dnhr5l"
      },
      "source": [
        "### Sorted Classifiers from Best to Worst based on Classification Accuracy"
      ]
    },
    {
      "cell_type": "code",
      "metadata": {
        "id": "C0XW1dnxhr5l",
        "colab": {
          "base_uri": "https://localhost:8080/",
          "height": 359
        },
        "outputId": "46a47eff-82b0-4038-902e-6708f0e246e8"
      },
      "source": [
        "sort_cl_df = cl_df.sort_values(by=['Accuracy'], ascending=False)\n",
        "\n",
        "sort_cl_df"
      ],
      "execution_count": 74,
      "outputs": [
        {
          "output_type": "execute_result",
          "data": {
            "text/html": [
              "<div>\n",
              "<style scoped>\n",
              "    .dataframe tbody tr th:only-of-type {\n",
              "        vertical-align: middle;\n",
              "    }\n",
              "\n",
              "    .dataframe tbody tr th {\n",
              "        vertical-align: top;\n",
              "    }\n",
              "\n",
              "    .dataframe thead th {\n",
              "        text-align: right;\n",
              "    }\n",
              "</style>\n",
              "<table border=\"1\" class=\"dataframe\">\n",
              "  <thead>\n",
              "    <tr style=\"text-align: right;\">\n",
              "      <th></th>\n",
              "      <th>Accuracy</th>\n",
              "      <th>F1_Macro</th>\n",
              "      <th>F1_Weighted</th>\n",
              "    </tr>\n",
              "  </thead>\n",
              "  <tbody>\n",
              "    <tr>\n",
              "      <th>LR(best_bow)</th>\n",
              "      <td>68.635%</td>\n",
              "      <td>68.044%</td>\n",
              "      <td>68.202%</td>\n",
              "    </tr>\n",
              "    <tr>\n",
              "      <th>LR(pos_tfidf)</th>\n",
              "      <td>67.069%</td>\n",
              "      <td>66.852%</td>\n",
              "      <td>66.949%</td>\n",
              "    </tr>\n",
              "    <tr>\n",
              "      <th>SVM(pos_tfidf)</th>\n",
              "      <td>66.309%</td>\n",
              "      <td>63.635%</td>\n",
              "      <td>63.993%</td>\n",
              "    </tr>\n",
              "    <tr>\n",
              "      <th>RF(pos_tfidf)</th>\n",
              "      <td>66.130%</td>\n",
              "      <td>62.446%</td>\n",
              "      <td>62.872%</td>\n",
              "    </tr>\n",
              "    <tr>\n",
              "      <th>MNB-SW(bow)</th>\n",
              "      <td>65.861%</td>\n",
              "      <td>64.253%</td>\n",
              "      <td>64.528%</td>\n",
              "    </tr>\n",
              "    <tr>\n",
              "      <th>MNB-LS(bow)</th>\n",
              "      <td>62.506%</td>\n",
              "      <td>62.446%</td>\n",
              "      <td>62.392%</td>\n",
              "    </tr>\n",
              "    <tr>\n",
              "      <th>MNB-LEM(bow)</th>\n",
              "      <td>62.416%</td>\n",
              "      <td>62.309%</td>\n",
              "      <td>62.237%</td>\n",
              "    </tr>\n",
              "    <tr>\n",
              "      <th>MNB(bow)</th>\n",
              "      <td>62.192%</td>\n",
              "      <td>62.123%</td>\n",
              "      <td>62.064%</td>\n",
              "    </tr>\n",
              "    <tr>\n",
              "      <th>MNB-BG(bow)</th>\n",
              "      <td>59.642%</td>\n",
              "      <td>57.750%</td>\n",
              "      <td>58.074%</td>\n",
              "    </tr>\n",
              "    <tr>\n",
              "      <th>GNB(bow)</th>\n",
              "      <td>48.501%</td>\n",
              "      <td>41.808%</td>\n",
              "      <td>41.092%</td>\n",
              "    </tr>\n",
              "  </tbody>\n",
              "</table>\n",
              "</div>"
            ],
            "text/plain": [
              "               Accuracy F1_Macro F1_Weighted\n",
              "LR(best_bow)    68.635%  68.044%     68.202%\n",
              "LR(pos_tfidf)   67.069%  66.852%     66.949%\n",
              "SVM(pos_tfidf)  66.309%  63.635%     63.993%\n",
              "RF(pos_tfidf)   66.130%  62.446%     62.872%\n",
              "MNB-SW(bow)     65.861%  64.253%     64.528%\n",
              "MNB-LS(bow)     62.506%  62.446%     62.392%\n",
              "MNB-LEM(bow)    62.416%  62.309%     62.237%\n",
              "MNB(bow)        62.192%  62.123%     62.064%\n",
              "MNB-BG(bow)     59.642%  57.750%     58.074%\n",
              "GNB(bow)        48.501%  41.808%     41.092%"
            ]
          },
          "metadata": {
            "tags": []
          },
          "execution_count": 74
        }
      ]
    },
    {
      "cell_type": "markdown",
      "metadata": {
        "id": "K8TcdtFohr5l"
      },
      "source": [
        "### Worst Classification Accuracy Classifier"
      ]
    },
    {
      "cell_type": "code",
      "metadata": {
        "id": "ofTwgztphr5m",
        "colab": {
          "base_uri": "https://localhost:8080/",
          "height": 80
        },
        "outputId": "aaa21456-6983-42b1-bd41-98bef0ec3a7f"
      },
      "source": [
        "sort_cl_df.tail(1)"
      ],
      "execution_count": 75,
      "outputs": [
        {
          "output_type": "execute_result",
          "data": {
            "text/html": [
              "<div>\n",
              "<style scoped>\n",
              "    .dataframe tbody tr th:only-of-type {\n",
              "        vertical-align: middle;\n",
              "    }\n",
              "\n",
              "    .dataframe tbody tr th {\n",
              "        vertical-align: top;\n",
              "    }\n",
              "\n",
              "    .dataframe thead th {\n",
              "        text-align: right;\n",
              "    }\n",
              "</style>\n",
              "<table border=\"1\" class=\"dataframe\">\n",
              "  <thead>\n",
              "    <tr style=\"text-align: right;\">\n",
              "      <th></th>\n",
              "      <th>Accuracy</th>\n",
              "      <th>F1_Macro</th>\n",
              "      <th>F1_Weighted</th>\n",
              "    </tr>\n",
              "  </thead>\n",
              "  <tbody>\n",
              "    <tr>\n",
              "      <th>GNB(bow)</th>\n",
              "      <td>48.501%</td>\n",
              "      <td>41.808%</td>\n",
              "      <td>41.092%</td>\n",
              "    </tr>\n",
              "  </tbody>\n",
              "</table>\n",
              "</div>"
            ],
            "text/plain": [
              "         Accuracy F1_Macro F1_Weighted\n",
              "GNB(bow)  48.501%  41.808%     41.092%"
            ]
          },
          "metadata": {
            "tags": []
          },
          "execution_count": 75
        }
      ]
    },
    {
      "cell_type": "markdown",
      "metadata": {
        "id": "rp0hgYWohr5m"
      },
      "source": [
        "### Multinomial Naive Bayes Classifiers"
      ]
    },
    {
      "cell_type": "code",
      "metadata": {
        "id": "MGYXxUIdhr5m",
        "colab": {
          "base_uri": "https://localhost:8080/",
          "height": 204
        },
        "outputId": "250e2baf-3a2f-48f2-8c65-e9251f2b87ac"
      },
      "source": [
        "sort_cl_df[sort_cl_df.index.str.startswith('M')]"
      ],
      "execution_count": 76,
      "outputs": [
        {
          "output_type": "execute_result",
          "data": {
            "text/html": [
              "<div>\n",
              "<style scoped>\n",
              "    .dataframe tbody tr th:only-of-type {\n",
              "        vertical-align: middle;\n",
              "    }\n",
              "\n",
              "    .dataframe tbody tr th {\n",
              "        vertical-align: top;\n",
              "    }\n",
              "\n",
              "    .dataframe thead th {\n",
              "        text-align: right;\n",
              "    }\n",
              "</style>\n",
              "<table border=\"1\" class=\"dataframe\">\n",
              "  <thead>\n",
              "    <tr style=\"text-align: right;\">\n",
              "      <th></th>\n",
              "      <th>Accuracy</th>\n",
              "      <th>F1_Macro</th>\n",
              "      <th>F1_Weighted</th>\n",
              "    </tr>\n",
              "  </thead>\n",
              "  <tbody>\n",
              "    <tr>\n",
              "      <th>MNB-SW(bow)</th>\n",
              "      <td>65.861%</td>\n",
              "      <td>64.253%</td>\n",
              "      <td>64.528%</td>\n",
              "    </tr>\n",
              "    <tr>\n",
              "      <th>MNB-LS(bow)</th>\n",
              "      <td>62.506%</td>\n",
              "      <td>62.446%</td>\n",
              "      <td>62.392%</td>\n",
              "    </tr>\n",
              "    <tr>\n",
              "      <th>MNB-LEM(bow)</th>\n",
              "      <td>62.416%</td>\n",
              "      <td>62.309%</td>\n",
              "      <td>62.237%</td>\n",
              "    </tr>\n",
              "    <tr>\n",
              "      <th>MNB(bow)</th>\n",
              "      <td>62.192%</td>\n",
              "      <td>62.123%</td>\n",
              "      <td>62.064%</td>\n",
              "    </tr>\n",
              "    <tr>\n",
              "      <th>MNB-BG(bow)</th>\n",
              "      <td>59.642%</td>\n",
              "      <td>57.750%</td>\n",
              "      <td>58.074%</td>\n",
              "    </tr>\n",
              "  </tbody>\n",
              "</table>\n",
              "</div>"
            ],
            "text/plain": [
              "             Accuracy F1_Macro F1_Weighted\n",
              "MNB-SW(bow)   65.861%  64.253%     64.528%\n",
              "MNB-LS(bow)   62.506%  62.446%     62.392%\n",
              "MNB-LEM(bow)  62.416%  62.309%     62.237%\n",
              "MNB(bow)      62.192%  62.123%     62.064%\n",
              "MNB-BG(bow)   59.642%  57.750%     58.074%"
            ]
          },
          "metadata": {
            "tags": []
          },
          "execution_count": 76
        }
      ]
    },
    {
      "cell_type": "markdown",
      "metadata": {
        "id": "pCBRzQ8Ghr5m"
      },
      "source": [
        "**The worst Classifier based on both classification accuracy and f1 score metrics on the test set is the first one we implemented, namely the Gaussian Naive Bayes Classifier, using word counts as features. That's expected, due to the deficient pre-processing on the data. Specifically, when GNB was executed we hadn't lemmatized our data or removed the stopwords, yet. <br> Moreover, as it turned out {GNB(bow)} isn't the most efficient, even, among the Naive Bayes Classifiers, as the Multinomial Naive Bayes Classifier {MNB(bow)} turned out to be the one, even before trying the additional cleansing on our data. <br> Concering the Multinomial Naive Bayes Classifiers we can distinct a 3% constant difference of the classification accuracy rate between the best MNB Classifier {MNB-SW(bow)} (the one where stopwords are removed) and the 3 intermediate MNB Classifiers, as well as between the intermediate MNB Classifiers and the worst MNB Classifier {MNB-BG(bow)} (the one where we use bigrams instead of unigrams). Same goes to both weighted and unweighted f1 scores metrics, with even bigger rate difference between the intermediate and the worst MNB Classifiers. <br> Having said that, we can verify the notion that removing the stopwords is a necessary strategy in every dataset cleansing and specially in our case it seems to lead to better classification results than lemmatization or data smoothing. <br> Finally, regarding the rest MNB Classifiers, it's worth mentioning that the lemmatization and Laplace Smoothing techniques had almost zero effect on the classification accuracy and f1 score metrics compared with our initial {MNB(bow)} Classifier.**"
      ]
    },
    {
      "cell_type": "markdown",
      "metadata": {
        "id": "-kt0R4qThr5m"
      },
      "source": [
        "### Logistic Regression Classifiers"
      ]
    },
    {
      "cell_type": "code",
      "metadata": {
        "id": "5Lm-Kbnshr5n",
        "colab": {
          "base_uri": "https://localhost:8080/",
          "height": 111
        },
        "outputId": "eeb845dc-883a-4f58-a00f-0d781b6437ed"
      },
      "source": [
        "sort_cl_df.head(2)"
      ],
      "execution_count": 77,
      "outputs": [
        {
          "output_type": "execute_result",
          "data": {
            "text/html": [
              "<div>\n",
              "<style scoped>\n",
              "    .dataframe tbody tr th:only-of-type {\n",
              "        vertical-align: middle;\n",
              "    }\n",
              "\n",
              "    .dataframe tbody tr th {\n",
              "        vertical-align: top;\n",
              "    }\n",
              "\n",
              "    .dataframe thead th {\n",
              "        text-align: right;\n",
              "    }\n",
              "</style>\n",
              "<table border=\"1\" class=\"dataframe\">\n",
              "  <thead>\n",
              "    <tr style=\"text-align: right;\">\n",
              "      <th></th>\n",
              "      <th>Accuracy</th>\n",
              "      <th>F1_Macro</th>\n",
              "      <th>F1_Weighted</th>\n",
              "    </tr>\n",
              "  </thead>\n",
              "  <tbody>\n",
              "    <tr>\n",
              "      <th>LR(best_bow)</th>\n",
              "      <td>68.635%</td>\n",
              "      <td>68.044%</td>\n",
              "      <td>68.202%</td>\n",
              "    </tr>\n",
              "    <tr>\n",
              "      <th>LR(pos_tfidf)</th>\n",
              "      <td>67.069%</td>\n",
              "      <td>66.852%</td>\n",
              "      <td>66.949%</td>\n",
              "    </tr>\n",
              "  </tbody>\n",
              "</table>\n",
              "</div>"
            ],
            "text/plain": [
              "              Accuracy F1_Macro F1_Weighted\n",
              "LR(best_bow)   68.635%  68.044%     68.202%\n",
              "LR(pos_tfidf)  67.069%  66.852%     66.949%"
            ]
          },
          "metadata": {
            "tags": []
          },
          "execution_count": 77
        }
      ]
    },
    {
      "cell_type": "markdown",
      "metadata": {
        "id": "ut9OXtzAhr5n"
      },
      "source": [
        "### Best Classification Accuracy Classifier"
      ]
    },
    {
      "cell_type": "code",
      "metadata": {
        "id": "Cf4AWVBZhr5n",
        "colab": {
          "base_uri": "https://localhost:8080/",
          "height": 80
        },
        "outputId": "620c2235-074b-4d73-c6c1-f68ed3555f15"
      },
      "source": [
        "sort_cl_df.head(1)"
      ],
      "execution_count": 78,
      "outputs": [
        {
          "output_type": "execute_result",
          "data": {
            "text/html": [
              "<div>\n",
              "<style scoped>\n",
              "    .dataframe tbody tr th:only-of-type {\n",
              "        vertical-align: middle;\n",
              "    }\n",
              "\n",
              "    .dataframe tbody tr th {\n",
              "        vertical-align: top;\n",
              "    }\n",
              "\n",
              "    .dataframe thead th {\n",
              "        text-align: right;\n",
              "    }\n",
              "</style>\n",
              "<table border=\"1\" class=\"dataframe\">\n",
              "  <thead>\n",
              "    <tr style=\"text-align: right;\">\n",
              "      <th></th>\n",
              "      <th>Accuracy</th>\n",
              "      <th>F1_Macro</th>\n",
              "      <th>F1_Weighted</th>\n",
              "    </tr>\n",
              "  </thead>\n",
              "  <tbody>\n",
              "    <tr>\n",
              "      <th>LR(best_bow)</th>\n",
              "      <td>68.635%</td>\n",
              "      <td>68.044%</td>\n",
              "      <td>68.202%</td>\n",
              "    </tr>\n",
              "  </tbody>\n",
              "</table>\n",
              "</div>"
            ],
            "text/plain": [
              "             Accuracy F1_Macro F1_Weighted\n",
              "LR(best_bow)  68.635%  68.044%     68.202%"
            ]
          },
          "metadata": {
            "tags": []
          },
          "execution_count": 78
        }
      ]
    },
    {
      "cell_type": "markdown",
      "metadata": {
        "id": "RqpSVGUHhr5n"
      },
      "source": [
        "**The best Classifier based on both classification accuracy and f1 score metrics on the test set is the <br> Logistic Regression Classifier {LR(best_bow)}, using words counts as features. We produced the input vector by combining the best possible parametres (unigrams & bigrams, stopwords removal) of CountVectorizer and we used it to transform our (lemmatized) dataset. Logistic Regression Classifier is, generally, one of the most effective binary classifiers. That's expected, because Logistic Regression analysis' dependent variable is exclusively binary. Furthermore, the low correlations among the predictors is an important factor of the method's effectiveness. So it turned out in our classification problem, since the {LR(best_bow)} Classifier predicted the corrent label with the highest accuracy rate, close to 70%. <br> The only paradox we could point out concerning our two LR Classifiers is that {LR(pos_tfidf)}, which uses words tfidf transformation as part of his input feature vector, can't overcome the {LR(best_bow)} Classifier's classification accuracy, which, uses word counts as features. <br> The importance of this observation, results from the fact that most of the time the tf-idf transformation method produces better classification results than the word counts method. <br> Yet, it seems that doesn't apply in the Logistic Regression Classifiers of our paradigm and same goes to the f1 score metrics.**"
      ]
    },
    {
      "cell_type": "markdown",
      "metadata": {
        "id": "--b6AX49hr5o"
      },
      "source": [
        "### Observations on SVM & RF Classifiers"
      ]
    },
    {
      "cell_type": "code",
      "metadata": {
        "id": "9XFKp6ZNhr5o",
        "colab": {
          "base_uri": "https://localhost:8080/",
          "height": 111
        },
        "outputId": "2343e5eb-2209-40d3-f93a-6ab840fbd9a2"
      },
      "source": [
        "new_comb_df.sort_values(by=['Accuracy'], ascending=False)"
      ],
      "execution_count": 79,
      "outputs": [
        {
          "output_type": "execute_result",
          "data": {
            "text/html": [
              "<div>\n",
              "<style scoped>\n",
              "    .dataframe tbody tr th:only-of-type {\n",
              "        vertical-align: middle;\n",
              "    }\n",
              "\n",
              "    .dataframe tbody tr th {\n",
              "        vertical-align: top;\n",
              "    }\n",
              "\n",
              "    .dataframe thead th {\n",
              "        text-align: right;\n",
              "    }\n",
              "</style>\n",
              "<table border=\"1\" class=\"dataframe\">\n",
              "  <thead>\n",
              "    <tr style=\"text-align: right;\">\n",
              "      <th></th>\n",
              "      <th>Accuracy</th>\n",
              "      <th>F1_Macro</th>\n",
              "      <th>F1_Weighted</th>\n",
              "    </tr>\n",
              "  </thead>\n",
              "  <tbody>\n",
              "    <tr>\n",
              "      <th>SVM(pos_tfidf)</th>\n",
              "      <td>66.309%</td>\n",
              "      <td>63.635%</td>\n",
              "      <td>63.993%</td>\n",
              "    </tr>\n",
              "    <tr>\n",
              "      <th>RF(pos_tfidf)</th>\n",
              "      <td>66.130%</td>\n",
              "      <td>62.446%</td>\n",
              "      <td>62.872%</td>\n",
              "    </tr>\n",
              "  </tbody>\n",
              "</table>\n",
              "</div>"
            ],
            "text/plain": [
              "               Accuracy F1_Macro F1_Weighted\n",
              "SVM(pos_tfidf)  66.309%  63.635%     63.993%\n",
              "RF(pos_tfidf)   66.130%  62.446%     62.872%"
            ]
          },
          "metadata": {
            "tags": []
          },
          "execution_count": 79
        }
      ]
    },
    {
      "cell_type": "markdown",
      "metadata": {
        "id": "4Cg0svMWhr5o"
      },
      "source": [
        "**Finally, it is important to appose our observations about the classification results of our Support Vector Machines and Random Forests Classifiers using the unification of part of speech fractions and words tf-idf transformation as features. <br> It's obvious that the compound input feature vector (pos-tfidf) has almost the same effect on both type of Classifiers as regards to the classification accuracy. It's clear that both Classifiers produce very satisfying classification results, that place them 3rd and 4th best, relatively, in the classification accuracy standings by a small rate difference compared to the results of the two LR Classifiers. In fact, we note that, even if the Random Forests Classifier is intrinsically suited for multiclass problems it produces good results for our two-class problem. <br> The above observations apply in the exact same way to the f1 score rates of our discussed Classifiers.**"
      ]
    }
  ]
}